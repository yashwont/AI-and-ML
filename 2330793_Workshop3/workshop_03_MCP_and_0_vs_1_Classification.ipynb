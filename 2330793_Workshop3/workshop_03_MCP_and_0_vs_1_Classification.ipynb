{
  "nbformat": 4,
  "nbformat_minor": 0,
  "metadata": {
    "colab": {
      "provenance": []
    },
    "kernelspec": {
      "name": "python3",
      "display_name": "Python 3"
    },
    "language_info": {
      "name": "python"
    }
  },
  "cells": [
    {
      "cell_type": "markdown",
      "source": [
        "# Implementation of MCP Neuron for AND and OR Function."
      ],
      "metadata": {
        "id": "IY-_Zy_b71lD"
      }
    },
    {
      "cell_type": "code",
      "source": [
        "def MCP_Neurons_AND(X1, X2, T=2):\n",
        "    \"\"\"\n",
        "    Implements basic AND operation using an MCP Neuron for two binary inputs.\n",
        "\n",
        "    Parameters:\n",
        "    X1 (1D numpy array): Array of binary values (0 or 1).\n",
        "    X2 (1D numpy array): Array of binary values (0 or 1).\n",
        "    T (int): Threshold value, default is 2 for AND logic.\n",
        "\n",
        "    Returns:\n",
        "    list: A list containing neuron states (1 or 0) for each input pair.\n",
        "    \"\"\"\n",
        "    assert len(X1) == len(X2), \"Input arrays must have the same length.\"\n",
        "\n",
        "    state_neuron = []  # Output list to store neuron states\n",
        "\n",
        "    for i in range(len(X1)):\n",
        "        sum_inputs = X1[i] + X2[i]  # Sum of inputs\n",
        "        if sum_inputs >= T:\n",
        "            state_neuron.append(1)  # Activate neuron\n",
        "        else:\n",
        "            state_neuron.append(0)  # Do not activate neuron\n",
        "\n",
        "    return state_neuron\n"
      ],
      "metadata": {
        "id": "Fu-YDOe_8GJi"
      },
      "execution_count": 48,
      "outputs": []
    },
    {
      "cell_type": "code",
      "source": [
        "# Example usage for MCP_Neurons_AND function\n",
        "X1 = [0, 0, 1, 1]\n",
        "X2 = [0, 1, 0, 1]\n",
        "T = 2  # Threshold value\n",
        "\n",
        "# Call the MCP_Neurons_AND function\n",
        "result = MCP_Neurons_AND(X1, X2, T)\n",
        "\n",
        "# Print the result\n",
        "print(f\"Output of AND gate for inputs {X1} and {X2} with threshold {T}: {result}\")\n"
      ],
      "metadata": {
        "colab": {
          "base_uri": "https://localhost:8080/"
        },
        "id": "e2-lKfat8ocN",
        "outputId": "7caab32c-152a-41c1-f9f8-f19b54b8bdf4"
      },
      "execution_count": 49,
      "outputs": [
        {
          "output_type": "stream",
          "name": "stdout",
          "text": [
            "Output of AND gate for inputs [0, 0, 1, 1] and [0, 1, 0, 1] with threshold 2: [0, 0, 0, 1]\n"
          ]
        }
      ]
    },
    {
      "cell_type": "code",
      "source": [
        "def MCP_Neurons_OR(X1, X2, T):\n",
        "    \"\"\"\n",
        "    This function implements basic OR operations with MCP Neuron for two inputs.\n",
        "    Arguments:\n",
        "    Inputs:\n",
        "    X1 (1D array): An array of binary values.\n",
        "    X2 (1D array): An array of binary values.\n",
        "    Output:\n",
        "    state_neuron (1D list): The state of the neuron (1 or 0) for the particular inputs.\n",
        "    \"\"\"\n",
        "    assert len(X1) == len(X2)\n",
        "    ### YOUR CODE HERE ###\n",
        "    # Perform an element wise addition of two input arrays stored in a new array(list):\n",
        "    # Create a new array to put all the prediction let's name that a state_neuron.\n",
        "    # Append 1 in sate_neuron if sum (element) of above list is above Threshold else append 0.\n",
        "    state_neuron = []\n",
        "    for i in range(len(X1)):\n",
        "        sum_inputs = X1[i] + X2[i]\n",
        "        if sum_inputs >= T:\n",
        "            state_neuron.append(1)\n",
        "        else:\n",
        "            state_neuron.append(0)\n",
        "\n",
        "    return state_neuron\n"
      ],
      "metadata": {
        "id": "7xaMXlLT9FHC"
      },
      "execution_count": 50,
      "outputs": []
    },
    {
      "cell_type": "code",
      "source": [
        "# Example usage for MCP_Neurons_OR function\n",
        "X1 = [0, 0, 1, 1]\n",
        "X2 = [0, 1, 0, 1]\n",
        "T = 1  # Threshold value for OR gate\n",
        "\n",
        "# Call the MCP_Neurons_OR function\n",
        "result_or = MCP_Neurons_OR(X1, X2, T)\n",
        "\n",
        "# Print the result\n",
        "print(f\"Output of OR gate for inputs {X1} and {X2} with threshold {T}: {result_or}\")\n"
      ],
      "metadata": {
        "colab": {
          "base_uri": "https://localhost:8080/"
        },
        "id": "6H-YOy268_Jo",
        "outputId": "5b64745c-551a-47e4-aa48-9504288ae6bd"
      },
      "execution_count": 51,
      "outputs": [
        {
          "output_type": "stream",
          "name": "stdout",
          "text": [
            "Output of OR gate for inputs [0, 0, 1, 1] and [0, 1, 0, 1] with threshold 1: [0, 1, 1, 1]\n"
          ]
        }
      ]
    },
    {
      "cell_type": "markdown",
      "source": [
        "### • Question - 1: List out all the limitations of MCP - Neurons."
      ],
      "metadata": {
        "id": "jyUpc1s03j45"
      }
    },
    {
      "cell_type": "markdown",
      "source": [
        "Binary Output: It produces only binary outputs (0 or 1), limiting its complexity.\n",
        "\n",
        "Simple Threshold Function: It uses a basic threshold function, restricting its ability to model complex patterns.\n",
        "\n",
        "No Learning Capability: It cannot adjust its weights based on input-output examples.\n",
        "\n",
        "Only Linearly Separable Problems: It can only solve problems that are linearly separable.\n",
        "\n",
        "Lack of Non-linearity: The step function doesn't model non-linear relationships.\n",
        "\n",
        "No Backpropagation: It lacks the ability to adjust weights using backpropagation for training.\n"
      ],
      "metadata": {
        "id": "a8ZMLNsZ3gQb"
      }
    },
    {
      "cell_type": "markdown",
      "source": [
        "# Implementation for 0 Vs. 1 Classification."
      ],
      "metadata": {
        "id": "Apa9bfLIFJHe"
      }
    },
    {
      "cell_type": "markdown",
      "source": [
        "## Step 1: Load the Dataset"
      ],
      "metadata": {
        "id": "iom83mGLFP_1"
      }
    },
    {
      "cell_type": "code",
      "source": [
        "import pandas as pd\n",
        "import numpy as np\n",
        "import matplotlib.pyplot as plt\n",
        "\n",
        "\n",
        "# Load the dataset\n",
        "df_0_1 = pd.read_csv(\"/content/mnist_0_and_1.csv\")  # Add the correct file path if necessary\n",
        "\n",
        "# Extract features and labels\n",
        "X = df_0_1.drop(columns=[\"label\"]).values  # 784 pixels\n",
        "y = df_0_1[\"label\"].values  # Labels (0 or 1)\n",
        "\n",
        "# Check the shape of the features and labels\n",
        "print(\"Feature matrix shape:\", X.shape)\n",
        "print(\"Label vector shape:\", y.shape)\n"
      ],
      "metadata": {
        "colab": {
          "base_uri": "https://localhost:8080/"
        },
        "id": "7rkW58ct9IYq",
        "outputId": "a923aeb3-c369-4124-a198-4978bffa523b"
      },
      "execution_count": 52,
      "outputs": [
        {
          "output_type": "stream",
          "name": "stdout",
          "text": [
            "Feature matrix shape: (12665, 784)\n",
            "Label vector shape: (12665,)\n"
          ]
        }
      ]
    },
    {
      "cell_type": "markdown",
      "source": [
        "### 1. Question - 1: What does the shape of X represent?"
      ],
      "metadata": {
        "id": "0z8MDxZh8gen"
      }
    },
    {
      "cell_type": "markdown",
      "source": [
        "The shape of X represents the number of samples (rows) and the number of features (columns) in the dataset."
      ],
      "metadata": {
        "id": "oEBh7KCA8kz8"
      }
    },
    {
      "cell_type": "markdown",
      "source": [
        "### Viewing the Dataset."
      ],
      "metadata": {
        "id": "jlq0EY2jHheD"
      }
    },
    {
      "cell_type": "code",
      "source": [
        "# Separate images for label 0 and label 1\n",
        "images_0 = X[y == 0]  # Get all images with label 0\n",
        "images_1 = X[y == 1]  # Get all images with label 1\n",
        "\n",
        "fig, axes = plt.subplots(2, 5, figsize=(10, 5))\n",
        "\n",
        "# Check if the arrays have the required amount of data\n",
        "if len(images_0) < 5 or len(images_1) < 5:\n",
        "    print(\"Error: Not enough images in images_0 or images_1 to plot 5 images.\")\n",
        "else:\n",
        "    for i in range(5):\n",
        "        # Plot digit 0\n",
        "        axes[0, i].imshow(images_0[i].reshape(28, 28), cmap=\"gray\")\n",
        "        axes[0, i].set_title(\"Label: 0\")\n",
        "        axes[0, i].axis(\"off\")\n",
        "        # Plot digit 1\n",
        "        axes[1, i].imshow(images_1[i].reshape(28, 28), cmap=\"gray\")\n",
        "        axes[1, i].set_title(\"Label: 1\")\n",
        "        axes[1, i].axis(\"off\")\n",
        "    plt.suptitle(\"First 5 Images of 0 and 1 from MNIST Subset\")\n",
        "    plt.show()"
      ],
      "metadata": {
        "colab": {
          "base_uri": "https://localhost:8080/",
          "height": 451
        },
        "id": "XKY2qjhCHAZ7",
        "outputId": "fe30389a-9925-409a-bf4d-de2ce32b456c"
      },
      "execution_count": 53,
      "outputs": [
        {
          "output_type": "display_data",
          "data": {
            "text/plain": [
              "<Figure size 1000x500 with 10 Axes>"
            ],
            "image/png": "[encoded data removed]"
          },
          "metadata": {}
        }
      ]
    },
    {
      "cell_type": "markdown",
      "source": [
        "## Step - 2 - Initializing the Weights:"
      ],
      "metadata": {
        "id": "qyM34tbHIqGi"
      }
    },
    {
      "cell_type": "code",
      "source": [
        "# Initialize weights and bias\n",
        "weights = np.zeros(X.shape[1])  # 784 weights (one for each pixel)\n",
        "bias = 0\n",
        "learning_rate = 0.1\n",
        "epochs = 100"
      ],
      "metadata": {
        "id": "SMsXaZ38HfBI"
      },
      "execution_count": 54,
      "outputs": []
    },
    {
      "cell_type": "markdown",
      "source": [
        "### 1. Question - 3: What does the weights array represent in this context?"
      ],
      "metadata": {
        "id": "7kZMwWTC5Nxj"
      }
    },
    {
      "cell_type": "markdown",
      "source": [
        "The weights array represents the importance (or contribution) of each pixel in predicting whether an image belongs to class 0 or class 1 in a binary classification task.\n",
        "\n",
        "X.shape[1] is 784, meaning there are 784 weights, one for each pixel in the 28×28 image.\n",
        "\n",
        "Each weight determines how much influence a particular pixel has on the final prediction.\n",
        "\n",
        "The weights are initialized to zero, meaning initially, all pixels contribute equally (or not at all) to the decision-making process.\n",
        "\n",
        "During training, the weights are updated using an optimization algorithm (e.g., gradient descent) to minimize the error in classification."
      ],
      "metadata": {
        "id": "y9spnriV5Qwm"
      }
    },
    {
      "cell_type": "markdown",
      "source": [
        "### 2. Question - 4: Why are we initializing the weights to zero? What effect could this\n",
        "have on the training process?"
      ],
      "metadata": {
        "id": "RjENsxlD5TOU"
      }
    },
    {
      "cell_type": "markdown",
      "source": [
        "We initialize the weights to zero as a simple starting point for training. This ensures that all pixels start with an equal contribution to the prediction, and the model learns the appropriate weights through training.\n",
        "\n",
        "Initializing weights to zero does not cause any issues because gradient descent will update the weights correctly.\n",
        "\n",
        "Each weight gets different values based on the gradient of the loss function, allowing the model to learn properly."
      ],
      "metadata": {
        "id": "ipuKpLAd5z3D"
      }
    },
    {
      "cell_type": "markdown",
      "source": [
        "## Step - 3 - Make a Decision function:"
      ],
      "metadata": {
        "id": "EvraDxaeRVeo"
      }
    },
    {
      "cell_type": "code",
      "source": [
        "import numpy as np\n",
        "\n",
        "def decision_function(X, weights, bias):\n",
        "    \"\"\"\n",
        "    Compute the predicted labels for the input data.\n",
        "\n",
        "    Parameters:\n",
        "    - X: Features (input data) as a numpy array of shape (n_samples, n_features)\n",
        "    - weights: Updated weights after training\n",
        "    - bias: Updated bias after training\n",
        "\n",
        "    Returns:\n",
        "    - y_pred_all: The predicted labels for the input data\n",
        "    \"\"\"\n",
        "    predictions = np.dot(X, weights) + bias\n",
        "    #####Your Code Here############  # Activation function (step function)\n",
        "    y_pred_all = np.where(predictions >= 0, 1, 0)\n",
        "    return y_pred_all"
      ],
      "metadata": {
        "id": "6uVj75txLWQi"
      },
      "execution_count": 55,
      "outputs": []
    },
    {
      "cell_type": "markdown",
      "source": [
        "## Step - 3 - Implement the Perceptron Learning Algorithm"
      ],
      "metadata": {
        "id": "AVZNGyRdI4I4"
      }
    },
    {
      "cell_type": "code",
      "source": [
        "import numpy as np\n",
        "\n",
        "def train_perceptron(X, y, weights, bias, learning_rate=0.1, epochs=100):\n",
        "    \"\"\"\n",
        "    Train the perceptron using the Perceptron Learning Algorithm.\n",
        "\n",
        "    Parameters:\n",
        "    - X: Features (input data) as a numpy array of shape (n_samples, n_features)\n",
        "    - y: Labels (true output) as a numpy array of shape (n_samples,)\n",
        "    - weights: Initial weights as a numpy array of shape (n_features,)\n",
        "    - bias: Initial bias value (scalar)\n",
        "    - learning_rate: Learning rate for weight updates (default is 0.1)\n",
        "    - epochs: Number of iterations to train the model (default is 100)\n",
        "\n",
        "    Returns:\n",
        "    - weights: Updated weights after training\n",
        "    - bias: Updated bias after training\n",
        "    - accuracy: Final accuracy after training\n",
        "    \"\"\"\n",
        "    n_samples = X.shape[0]\n",
        "\n",
        "    for epoch in range(epochs):\n",
        "        correct_predictions = 0\n",
        "\n",
        "        for i in range(n_samples):\n",
        "            # Compute prediction using the step function\n",
        "            linear_output = np.dot(X[i], weights) + bias\n",
        "            y_pred = 1 if linear_output >= 0 else 0\n",
        "\n",
        "            # Update weights and bias if misclassification occurs\n",
        "            if y_pred != y[i]:\n",
        "                update = learning_rate * (y[i] - y_pred)\n",
        "                weights += update * X[i]  # Update weights\n",
        "                bias += update  # Update bias\n",
        "            else:\n",
        "                correct_predictions += 1  # Count correct predictions\n",
        "\n",
        "        # Calculate accuracy\n",
        "        accuracy = correct_predictions / n_samples\n",
        "\n",
        "        # Print accuracy for each epoch (optional)\n",
        "        print(f\"Epoch {epoch+1}/{epochs} - Accuracy: {accuracy:.4f}\")\n",
        "\n",
        "        # Stop early if perfect accuracy is achieved\n",
        "        if accuracy == 1.0:\n",
        "            break\n",
        "\n",
        "    return weights, bias, accuracy"
      ],
      "metadata": {
        "id": "Dg1ocrycJWpA"
      },
      "execution_count": 56,
      "outputs": []
    },
    {
      "cell_type": "markdown",
      "source": [
        "## Training the Perceptron"
      ],
      "metadata": {
        "id": "Va6AGI6iMAG9"
      }
    },
    {
      "cell_type": "code",
      "source": [
        "# After training the model with the perceptron_learning_algorithm\n",
        "weights, bias, accuracy = train_perceptron(X, y, weights, bias)\n",
        "\n",
        "# Evaluate the model using the new function\n",
        "print(\"The Final Accuracy is: \", accuracy)"
      ],
      "metadata": {
        "colab": {
          "base_uri": "https://localhost:8080/"
        },
        "id": "cn8XBYuZLswI",
        "outputId": "1125fcaa-dfb9-4733-f905-644d14763192"
      },
      "execution_count": 57,
      "outputs": [
        {
          "output_type": "stream",
          "name": "stdout",
          "text": [
            "Epoch 1/100 - Accuracy: 0.9967\n",
            "Epoch 2/100 - Accuracy: 0.9982\n",
            "Epoch 3/100 - Accuracy: 0.9987\n",
            "Epoch 4/100 - Accuracy: 0.9987\n",
            "Epoch 5/100 - Accuracy: 0.9990\n",
            "Epoch 6/100 - Accuracy: 0.9993\n",
            "Epoch 7/100 - Accuracy: 0.9998\n",
            "Epoch 8/100 - Accuracy: 0.9995\n",
            "Epoch 9/100 - Accuracy: 0.9989\n",
            "Epoch 10/100 - Accuracy: 0.9992\n",
            "Epoch 11/100 - Accuracy: 0.9995\n",
            "Epoch 12/100 - Accuracy: 0.9998\n",
            "Epoch 13/100 - Accuracy: 1.0000\n",
            "The Final Accuracy is:  1.0\n"
          ]
        }
      ]
    },
    {
      "cell_type": "markdown",
      "source": [
        "### 1. Question - 5: What is the purpose of the output = np.dot(X[i], weights) + bias line?"
      ],
      "metadata": {
        "id": "jGo7Kn3V8uO1"
      }
    },
    {
      "cell_type": "markdown",
      "source": [
        "It is the formula to find weighted sum of x[i]. It is a dicision boundary equation."
      ],
      "metadata": {
        "id": "IiFTzM2J8vgT"
      }
    },
    {
      "cell_type": "markdown",
      "source": [
        "### 2. Question - 6: What happens when the prediction is wrong? How are the weights and bias updated?"
      ],
      "metadata": {
        "id": "uq6Q-iob9XDd"
      }
    },
    {
      "cell_type": "markdown",
      "source": [
        "When the perceptron makes a wrong prediction, it means that the predicted label (y_pred) is different from the actual label (y[i]).\n",
        "\n",
        "The weights and bias are updated using the perceptron learning algorithm w = n x (y[i]-y_pred) * x[i].\n",
        "where,\n",
        " w = weights\n",
        " n = learning_rate\n",
        " y = actual value\n",
        " y_pred = predicted value\n",
        " x[i] = current value\n",
        "\n",
        " then bias is update using the weight\n",
        " bias += w\n",
        "\n",
        " bias controls how much the weights change with each update."
      ],
      "metadata": {
        "id": "urycQFmJ9dNO"
      }
    },
    {
      "cell_type": "markdown",
      "source": [
        "### 3. Question - 7:Why is the final accuracy important, and what do you expect it to be?"
      ],
      "metadata": {
        "id": "vCDX_n17-wcn"
      }
    },
    {
      "cell_type": "markdown",
      "source": [
        "If accuracy = 1.0, your data is likely linearly separable.\n",
        "If accuracy < 1.0, consider feature engineering, tuning hyperparameters, or using a better model.\n",
        "\n",
        "I expect it to be 100% accurate because the dataset is clear and there are only two classes 0 and 1. So, it is easier for perceptron model."
      ],
      "metadata": {
        "id": "KWD9F0r4-17a"
      }
    },
    {
      "cell_type": "markdown",
      "source": [
        "## Step 5: Visualize Misclassified Images"
      ],
      "metadata": {
        "id": "-SLq1jbSMKPm"
      }
    },
    {
      "cell_type": "code",
      "source": [
        "# Get predictions for all data points\n",
        "predictions = np.dot(X, weights) + bias\n",
        "y_pred = np.where(predictions >= 0, 1, 0)\n",
        "\n",
        "# Calculate final accuracy\n",
        "final_accuracy = np.mean(y_pred == y)\n",
        "print(f\"Final Accuracy: {final_accuracy:.4f}\")\n",
        "\n",
        "# Step 5: Visualize Misclassified Images\n",
        "misclassified_idx = np.where(y_pred != y)[0]\n",
        "if len(misclassified_idx) > 0:\n",
        "    fig, axes = plt.subplots(2, 5, figsize=(10, 5))\n",
        "    for ax, idx in zip(axes.flat, misclassified_idx[:10]):  # Show 10 misclassified images\n",
        "        ax.imshow(X[idx].reshape(28, 28), cmap=\"gray\")\n",
        "        ax.set_title(f\"Pred: {y_pred[idx]}, True: {y[idx]}\")\n",
        "        ax.axis(\"off\")\n",
        "    plt.suptitle(\"Misclassified Images\")\n",
        "    plt.show()\n",
        "else:\n",
        "    print(\"All images were correctly classified!\")"
      ],
      "metadata": {
        "colab": {
          "base_uri": "https://localhost:8080/"
        },
        "id": "KAMz1RPGMN_A",
        "outputId": "7a0d771c-ffef-4c7f-8fce-9021ba195f81"
      },
      "execution_count": 58,
      "outputs": [
        {
          "output_type": "stream",
          "name": "stdout",
          "text": [
            "Final Accuracy: 1.0000\n",
            "All images were correctly classified!\n"
          ]
        }
      ]
    },
    {
      "cell_type": "markdown",
      "source": [
        "## 4.4 Task 3: Perceptron Algorithm for 3 vs 5 Classification."
      ],
      "metadata": {
        "id": "GnkKnHoaAhmQ"
      }
    },
    {
      "cell_type": "code",
      "source": [
        "import pandas as pd\n",
        "import numpy as np\n",
        "import matplotlib.pyplot as plt\n",
        "\n",
        "\n",
        "# Load the dataset\n",
        "df_3_5 = pd.read_csv(\"/content/mnist_3_and_5.csv\")  # Add the correct file path if necessary\n",
        "\n",
        "# Extract features and labels\n",
        "A = df_3_5.drop(columns=[\"label\"]).values  # 784 pixels\n",
        "b = df_3_5[\"label\"].values  # Labels (3 or 5)\n",
        "\n",
        "# Check the shape of the features and labels\n",
        "print(\"Feature matrix shape:\", A.shape)\n",
        "print(\"Label vector shape:\", b.shape)"
      ],
      "metadata": {
        "colab": {
          "base_uri": "https://localhost:8080/"
        },
        "id": "Py9t2ym-Allu",
        "outputId": "b53c58ad-0034-4813-9a1b-1e49237acbb5"
      },
      "execution_count": 59,
      "outputs": [
        {
          "output_type": "stream",
          "name": "stdout",
          "text": [
            "Feature matrix shape: (2741, 784)\n",
            "Label vector shape: (2741,)\n"
          ]
        }
      ]
    },
    {
      "cell_type": "code",
      "source": [
        "# Separate images for label 0 and label 1\n",
        "images_3 = A[b == 3]  # Get all images with label 0\n",
        "images_5 = A[b == 5]  # Get all images with label 1\n",
        "\n",
        "fig, axes = plt.subplots(2, 5, figsize=(10, 5))\n",
        "\n",
        "# Check if the arrays have the required amount of data\n",
        "if len(images_3) < 5 or len(images_5) < 5:\n",
        "    print(\"Error: Not enough images in images_0 or images_1 to plot 5 images.\")\n",
        "else:\n",
        "    for i in range(5):\n",
        "        # Plot digit 0\n",
        "        axes[0, i].imshow(images_3[i].reshape(28, 28), cmap=\"gray\")\n",
        "        axes[0, i].set_title(\"Label: 3\")\n",
        "        axes[0, i].axis(\"off\")\n",
        "        # Plot digit 1\n",
        "        axes[1, i].imshow(images_5[i].reshape(28, 28), cmap=\"gray\")\n",
        "        axes[1, i].set_title(\"Label: 5\")\n",
        "        axes[1, i].axis(\"off\")\n",
        "    plt.suptitle(\"First 5 Images of 3 and 5 from MNIST Subset\")\n",
        "    plt.show()"
      ],
      "metadata": {
        "colab": {
          "base_uri": "https://localhost:8080/",
          "height": 451
        },
        "id": "g5Uu6nMEBJv4",
        "outputId": "6157ae45-8336-414e-8eb6-564cdf523cfb"
      },
      "execution_count": 60,
      "outputs": [
        {
          "output_type": "display_data",
          "data": {
            "text/plain": [
              "<Figure size 1000x500 with 10 Axes>"
            ],
            "image/png": "[encoded data removed]"
          },
          "metadata": {}
        }
      ]
    },
    {
      "cell_type": "code",
      "source": [
        "# Initialize weights and bias\n",
        "w = np.zeros(A.shape[1])  # 784 weights (one for each pixel)\n",
        "bia = 0\n",
        "l_rate = 0.1\n",
        "epo = 100"
      ],
      "metadata": {
        "id": "_faz8wopDiRc"
      },
      "execution_count": 61,
      "outputs": []
    },
    {
      "cell_type": "code",
      "source": [
        "import numpy as np\n",
        "\n",
        "def decision(A, w, bia):\n",
        "    \"\"\"\n",
        "    Compute the predicted labels for the input data.\n",
        "\n",
        "    Parameters:\n",
        "    - X: Features (input data) as a numpy array of shape (n_samples, n_features)\n",
        "    - weights: Updated weights after training\n",
        "    - bias: Updated bias after training\n",
        "\n",
        "    Returns:\n",
        "    - y_pred_all: The predicted labels for the input data\n",
        "    \"\"\"\n",
        "    predictions = np.dot(A, w) + bia\n",
        "    #####Your Code Here############  # Activation function (step function)\n",
        "    y_pred = np.where(predictions >= 0, 1, 0)\n",
        "    return y_pred"
      ],
      "metadata": {
        "id": "msXbWG06D7TR"
      },
      "execution_count": 62,
      "outputs": []
    },
    {
      "cell_type": "code",
      "source": [
        "import numpy as np\n",
        "\n",
        "def train_perceptron_A(A, b, w, bia, l_r=0.1, epo=100):\n",
        "    \"\"\"\n",
        "    Train the perceptron using the Perceptron Learning Algorithm.\n",
        "\n",
        "    Parameters:\n",
        "    - X: Features (input data) as a numpy array of shape (n_samples, n_features)\n",
        "    - y: Labels (true output) as a numpy array of shape (n_samples,)\n",
        "    - weights: Initial weights as a numpy array of shape (n_features,)\n",
        "    - bias: Initial bias value (scalar)\n",
        "    - learning_rate: Learning rate for weight updates (default is 0.1)\n",
        "    - epochs: Number of iterations to train the model (default is 100)\n",
        "\n",
        "    Returns:\n",
        "    - weights: Updated weights after training\n",
        "    - bias: Updated bias after training\n",
        "    - accuracy: Final accuracy after training\n",
        "    \"\"\"\n",
        "    n_samples = A.shape[0]\n",
        "\n",
        "    for epo in range(epochs):\n",
        "        correct_predictions = 0\n",
        "\n",
        "        for i in range(n_samples):\n",
        "            # Compute prediction using the step function\n",
        "            linear_output = np.dot(A[i], w) + bia\n",
        "            y_pred = 1 if linear_output >= 0 else 0\n",
        "\n",
        "            # Update weights and bias if misclassification occurs\n",
        "            if y_pred != y[i]:\n",
        "                update = l_r * (y[i] - y_pred)\n",
        "                w += update * X[i]  # Update weights\n",
        "                bia += update  # Update bias\n",
        "            else:\n",
        "                correct_predictions += 1  # Count correct predictions\n",
        "\n",
        "        # Calculate accuracy\n",
        "        accur = correct_predictions / n_samples\n",
        "\n",
        "        # Print accuracy for each epoch (optional)\n",
        "        print(f\"Epoch {epo+1}/{epochs} - Accuracy: {accur:.4f}\")\n",
        "\n",
        "        # Stop early if perfect accuracy is achieved\n",
        "        if accur == 1.0:\n",
        "            break\n",
        "\n",
        "    return w, bia, accur"
      ],
      "metadata": {
        "id": "e8PCGAwYEE7U"
      },
      "execution_count": 63,
      "outputs": []
    },
    {
      "cell_type": "code",
      "source": [
        "# After training the model with the perceptron_learning_algorithm\n",
        "w, bia, accur = train_perceptron_A(A, b, w, bia)\n",
        "\n",
        "# Evaluate the model using the new function\n",
        "print(\"The Final Accuracy is: \", accur)"
      ],
      "metadata": {
        "colab": {
          "base_uri": "https://localhost:8080/"
        },
        "id": "totz49raEknU",
        "outputId": "a3cfa1dd-af5c-4d38-9bde-b85e419aa647"
      },
      "execution_count": 64,
      "outputs": [
        {
          "output_type": "stream",
          "name": "stdout",
          "text": [
            "Epoch 1/100 - Accuracy: 0.4940\n",
            "Epoch 2/100 - Accuracy: 0.4962\n",
            "Epoch 3/100 - Accuracy: 0.4973\n",
            "Epoch 4/100 - Accuracy: 0.4973\n",
            "Epoch 5/100 - Accuracy: 0.4980\n",
            "Epoch 6/100 - Accuracy: 0.4991\n",
            "Epoch 7/100 - Accuracy: 0.4991\n",
            "Epoch 8/100 - Accuracy: 0.4995\n",
            "Epoch 9/100 - Accuracy: 0.4995\n",
            "Epoch 10/100 - Accuracy: 0.4991\n",
            "Epoch 11/100 - Accuracy: 0.4991\n",
            "Epoch 12/100 - Accuracy: 0.4995\n",
            "Epoch 13/100 - Accuracy: 0.4995\n",
            "Epoch 14/100 - Accuracy: 0.4995\n",
            "Epoch 15/100 - Accuracy: 0.4995\n",
            "Epoch 16/100 - Accuracy: 0.4995\n",
            "Epoch 17/100 - Accuracy: 0.4995\n",
            "Epoch 18/100 - Accuracy: 0.4998\n",
            "Epoch 19/100 - Accuracy: 0.4995\n",
            "Epoch 20/100 - Accuracy: 0.4998\n",
            "Epoch 21/100 - Accuracy: 0.4995\n",
            "Epoch 22/100 - Accuracy: 0.4991\n",
            "Epoch 23/100 - Accuracy: 0.4995\n",
            "Epoch 24/100 - Accuracy: 0.4991\n",
            "Epoch 25/100 - Accuracy: 0.4991\n",
            "Epoch 26/100 - Accuracy: 0.4991\n",
            "Epoch 27/100 - Accuracy: 0.4991\n",
            "Epoch 28/100 - Accuracy: 0.4991\n",
            "Epoch 29/100 - Accuracy: 0.4991\n",
            "Epoch 30/100 - Accuracy: 0.4995\n",
            "Epoch 31/100 - Accuracy: 0.4991\n",
            "Epoch 32/100 - Accuracy: 0.4991\n",
            "Epoch 33/100 - Accuracy: 0.4991\n",
            "Epoch 34/100 - Accuracy: 0.4991\n",
            "Epoch 35/100 - Accuracy: 0.4991\n",
            "Epoch 36/100 - Accuracy: 0.4991\n",
            "Epoch 37/100 - Accuracy: 0.4991\n",
            "Epoch 38/100 - Accuracy: 0.4991\n",
            "Epoch 39/100 - Accuracy: 0.4995\n",
            "Epoch 40/100 - Accuracy: 0.4991\n",
            "Epoch 41/100 - Accuracy: 0.4991\n",
            "Epoch 42/100 - Accuracy: 0.4991\n",
            "Epoch 43/100 - Accuracy: 0.4991\n",
            "Epoch 44/100 - Accuracy: 0.4991\n",
            "Epoch 45/100 - Accuracy: 0.4991\n",
            "Epoch 46/100 - Accuracy: 0.4991\n",
            "Epoch 47/100 - Accuracy: 0.4991\n",
            "Epoch 48/100 - Accuracy: 0.4995\n",
            "Epoch 49/100 - Accuracy: 0.4991\n",
            "Epoch 50/100 - Accuracy: 0.4991\n",
            "Epoch 51/100 - Accuracy: 0.4991\n",
            "Epoch 52/100 - Accuracy: 0.4991\n",
            "Epoch 53/100 - Accuracy: 0.4991\n",
            "Epoch 54/100 - Accuracy: 0.4991\n",
            "Epoch 55/100 - Accuracy: 0.4991\n",
            "Epoch 56/100 - Accuracy: 0.4991\n",
            "Epoch 57/100 - Accuracy: 0.4995\n",
            "Epoch 58/100 - Accuracy: 0.4991\n",
            "Epoch 59/100 - Accuracy: 0.4991\n",
            "Epoch 60/100 - Accuracy: 0.4991\n",
            "Epoch 61/100 - Accuracy: 0.4991\n",
            "Epoch 62/100 - Accuracy: 0.4991\n",
            "Epoch 63/100 - Accuracy: 0.4991\n",
            "Epoch 64/100 - Accuracy: 0.4991\n",
            "Epoch 65/100 - Accuracy: 0.4991\n",
            "Epoch 66/100 - Accuracy: 0.4995\n",
            "Epoch 67/100 - Accuracy: 0.4991\n",
            "Epoch 68/100 - Accuracy: 0.4991\n",
            "Epoch 69/100 - Accuracy: 0.4991\n",
            "Epoch 70/100 - Accuracy: 0.4991\n",
            "Epoch 71/100 - Accuracy: 0.4991\n",
            "Epoch 72/100 - Accuracy: 0.4991\n",
            "Epoch 73/100 - Accuracy: 0.4991\n",
            "Epoch 74/100 - Accuracy: 0.4995\n",
            "Epoch 75/100 - Accuracy: 0.4991\n",
            "Epoch 76/100 - Accuracy: 0.4991\n",
            "Epoch 77/100 - Accuracy: 0.4991\n",
            "Epoch 78/100 - Accuracy: 0.4991\n",
            "Epoch 79/100 - Accuracy: 0.4991\n",
            "Epoch 80/100 - Accuracy: 0.4991\n",
            "Epoch 81/100 - Accuracy: 0.4991\n",
            "Epoch 82/100 - Accuracy: 0.4991\n",
            "Epoch 83/100 - Accuracy: 0.4995\n",
            "Epoch 84/100 - Accuracy: 0.4991\n",
            "Epoch 85/100 - Accuracy: 0.4991\n",
            "Epoch 86/100 - Accuracy: 0.4991\n",
            "Epoch 87/100 - Accuracy: 0.4991\n",
            "Epoch 88/100 - Accuracy: 0.4991\n",
            "Epoch 89/100 - Accuracy: 0.4991\n",
            "Epoch 90/100 - Accuracy: 0.4991\n",
            "Epoch 91/100 - Accuracy: 0.4991\n",
            "Epoch 92/100 - Accuracy: 0.4995\n",
            "Epoch 93/100 - Accuracy: 0.4991\n",
            "Epoch 94/100 - Accuracy: 0.4991\n",
            "Epoch 95/100 - Accuracy: 0.4991\n",
            "Epoch 96/100 - Accuracy: 0.4991\n",
            "Epoch 97/100 - Accuracy: 0.4991\n",
            "Epoch 98/100 - Accuracy: 0.4991\n",
            "Epoch 99/100 - Accuracy: 0.4991\n",
            "Epoch 100/100 - Accuracy: 0.4991\n",
            "The Final Accuracy is:  0.4990879241152864\n"
          ]
        }
      ]
    },
    {
      "cell_type": "code",
      "source": [
        "import numpy as np\n",
        "import matplotlib.pyplot as plt\n",
        "\n",
        "# Compute predictions\n",
        "pred = np.dot(A, w) + bias  # Fix variable name: changed 'bia' to 'bias'\n",
        "y_predic = np.where(pred >= 0, 3, 5)  # Step function for classification\n",
        "\n",
        "# Calculate final accuracy\n",
        "final_accur = np.mean(y_predic == b)  # Compare predictions with true labels\n",
        "print(f\"Final Accuracy: {final_accur:.4f}\")\n",
        "\n",
        "# Step 5: Visualize Misclassified Images\n",
        "misclassified = np.where(y_predic != b)[0]  # Get indices of misclassified images\n",
        "if len(misclassified) > 0:\n",
        "    fig, axes = plt.subplots(3, 5, figsize=(10, 5))  # Create a 2x5 grid for images\n",
        "    for ax, idx in zip(axes.flat, misclassified[:15]):  # Show up to 10 misclassified images\n",
        "        ax.imshow(A[idx].reshape(28, 28), cmap=\"gray\")  # Reshape back to 28x28\n",
        "        ax.set_title(f\"Pred: {y_predic[idx]}, True: {b[idx]}\")  # Display prediction and true label\n",
        "        ax.axis(\"off\")\n",
        "    plt.suptitle(\"Misclassified Images\")\n",
        "    plt.show()\n",
        "else:\n",
        "    print(\"All images were correctly classified!\")\n"
      ],
      "metadata": {
        "colab": {
          "base_uri": "https://localhost:8080/",
          "height": 489
        },
        "id": "YiKggLEgE-15",
        "outputId": "55706e4c-0d95-43a0-fc41-cd964cc03861"
      },
      "execution_count": 76,
      "outputs": [
        {
          "output_type": "stream",
          "name": "stdout",
          "text": [
            "Final Accuracy: 0.5910\n"
          ]
        },
        {
          "output_type": "display_data",
          "data": {
            "text/plain": [
              "<Figure size 1000x500 with 15 Axes>"
            ],
            "image/png": "[encoded data removed]"
          },
          "metadata": {}
        }
      ]
    }
  ]
}