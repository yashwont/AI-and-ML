{
 "cells": [
  {
   "cell_type": "markdown",
   "id": "5626d565-f516-4677-bf91-1e6a7183392e",
   "metadata": {},
   "source": [
    "### Python Version Check"
   ]
  },
  {
   "cell_type": "code",
   "execution_count": 5,
   "id": "649d44c7-78bf-44ff-8efb-cc41acd168f3",
   "metadata": {},
   "outputs": [
    {
     "name": "stdout",
     "output_type": "stream",
     "text": [
      "Hello, world\n",
      "Python version: 3.12.7 | packaged by Anaconda, Inc. | (main, Oct  4 2024, 13:17:27) [MSC v.1929 64 bit (AMD64)]\n"
     ]
    }
   ],
   "source": [
    "import sys\n",
    "#check python version\n",
    "if sys.version_info.major == 3 and sys.version_info.minor >= 6:\n",
    "  print(\"Hello, world\")\n",
    "  print(f\"Python version: {sys.version}\")\n",
    "else:\n",
    "  print(\"Please use Python 3.6 or higher\")"
   ]
  },
  {
   "cell_type": "markdown",
   "id": "af022b68-ab87-4419-8706-f3a96be86e5f",
   "metadata": {},
   "source": [
    "### Data types in python"
   ]
  },
  {
   "cell_type": "code",
   "execution_count": 9,
   "id": "19512867-87f2-4b0b-9a10-07ebc0ea4c26",
   "metadata": {},
   "outputs": [
    {
     "name": "stdout",
     "output_type": "stream",
     "text": [
      "Modified List: [1, 2, 3, 4]\n",
      "Original Tuple: (1, 2, 3)\n"
     ]
    }
   ],
   "source": [
    "#Mutable Data type Example (list)\n",
    "my_list = [1, 2, 3]\n",
    "# Modifying the list (changing contents)\n",
    "my_list.append(4)\n",
    "print(\"Modified List:\", my_list)\n",
    "# Immutable Data Type Example (Tuple)\n",
    "my_tuple = (1, 2, 3)\n",
    "print(\"Original Tuple:\", my_tuple)"
   ]
  },
  {
   "cell_type": "code",
   "execution_count": 11,
   "id": "5be57407-42c4-4136-a871-8fb267a42cd0",
   "metadata": {},
   "outputs": [],
   "source": [
    "# Trying to modify the tuple (will raise an error)\n",
    "# my_tuple.append(4) # Uncommenting this line will raise an AttributeError"
   ]
  },
  {
   "cell_type": "markdown",
   "id": "b125c3d6-0a10-4fc4-944d-2a8d483c8370",
   "metadata": {},
   "source": [
    "### Some Common Data Types in Python:"
   ]
  },
  {
   "cell_type": "markdown",
   "id": "6b0ac0bc-9fb3-489e-b6ce-abcb8ecc7dca",
   "metadata": {},
   "source": [
    "### Numeric"
   ]
  },
  {
   "cell_type": "code",
   "execution_count": 24,
   "id": "bd9c9912-dc6e-4d94-bb95-063fa1d844e9",
   "metadata": {},
   "outputs": [
    {
     "name": "stdout",
     "output_type": "stream",
     "text": [
      "data type of variable age =  <class 'int'>\n",
      "data type of variable pi =  <class 'float'>\n",
      "data type of variable temperature =  <class 'float'>\n"
     ]
    }
   ],
   "source": [
    "age = 23 #int\n",
    "pi = 3.14 #float\n",
    "temperature = -5.5 #float\n",
    "print(\"data type of variable age = \", type(age))\n",
    "print(\"data type of variable pi = \", type(pi))\n",
    "print(\"data type of variable temperature = \", type(temperature))"
   ]
  },
  {
   "cell_type": "markdown",
   "id": "1c307c36-5095-435a-8221-4b7486af2cc3",
   "metadata": {},
   "source": [
    "### str:"
   ]
  },
  {
   "cell_type": "code",
   "execution_count": 34,
   "id": "109329d0-9a33-4325-9d42-397389b60bfb",
   "metadata": {},
   "outputs": [
    {
     "name": "stdout",
     "output_type": "stream",
     "text": [
      "data type of the variable name =  <class 'str'>\n",
      "data type of the variable greeting =  <class 'str'>\n",
      "data type of the variable address =  <class 'str'>\n",
      "The first letter of the name is: A\n",
      "The last letter of the name is: e\n",
      "The second letter to the fourth of the name is: lic\n",
      "The first two letters of the name are: Al\n",
      "Substring starting from the third letter is: ice\n"
     ]
    }
   ],
   "source": [
    "name = \"Alice\"\n",
    "greeting = 'Hello'\n",
    "address = \"123 Main St\"\n",
    "print(\"data type of the variable name = \",type(name))\n",
    "print(\"data type of the variable greeting = \",type(greeting))\n",
    "print(\"data type of the variable address = \",type(address))\n",
    "# slice only one element\n",
    "print(\"The first letter of the name is:\", name[0])\n",
    "print(\"The last letter of the name is:\", name[-1])\n",
    "# slice a range of elements\n",
    "print(\"The second letter to the fourth of the name is:\", name[1:4])\n",
    "print(\"The first two letters of the name are:\", name[:2])\n",
    "print(\"Substring starting from the third letter is:\", name[2:])"
   ]
  },
  {
   "cell_type": "markdown",
   "id": "5033d71c-a6b7-49b1-a11b-3abc1881feed",
   "metadata": {},
   "source": [
    "### list"
   ]
  },
  {
   "cell_type": "code",
   "execution_count": 41,
   "id": "7cb60f1e-236e-40a9-b8ea-26c18e4d3f47",
   "metadata": {},
   "outputs": [
    {
     "data": {
      "text/plain": [
       "[False, 'Hello', True]"
      ]
     },
     "execution_count": 41,
     "metadata": {},
     "output_type": "execute_result"
    }
   ],
   "source": [
    "list1 = [1, 2, 3, 4]\n",
    "mixed_list = [12, \"Hello\", True]\n",
    "# List is mutable\n",
    "mixed_list[0] = False\n",
    "mixed_list"
   ]
  },
  {
   "cell_type": "markdown",
   "id": "0701dea0-5522-4c85-b9d0-ed3a12c3b4fe",
   "metadata": {},
   "source": [
    "### tuple:"
   ]
  },
  {
   "cell_type": "code",
   "execution_count": 50,
   "id": "fec47f44-a4a7-42ca-8785-8e5f08805da7",
   "metadata": {},
   "outputs": [
    {
     "name": "stdout",
     "output_type": "stream",
     "text": [
      "First element: red\n",
      "Last two elements: ('yellow', 'blue')\n",
      "Middle two elements: ('green', 'yellow')\n"
     ]
    },
    {
     "ename": "TypeError",
     "evalue": "'tuple' object does not support item assignment",
     "output_type": "error",
     "traceback": [
      "\u001b[1;31m---------------------------------------------------------------------------\u001b[0m",
      "\u001b[1;31mTypeError\u001b[0m                                 Traceback (most recent call last)",
      "Cell \u001b[1;32mIn[50], line 5\u001b[0m\n\u001b[0;32m      3\u001b[0m \u001b[38;5;28mprint\u001b[39m(\u001b[38;5;124m\"\u001b[39m\u001b[38;5;124mLast two elements:\u001b[39m\u001b[38;5;124m\"\u001b[39m, colors[\u001b[38;5;241m2\u001b[39m:])\n\u001b[0;32m      4\u001b[0m \u001b[38;5;28mprint\u001b[39m(\u001b[38;5;124m\"\u001b[39m\u001b[38;5;124mMiddle two elements:\u001b[39m\u001b[38;5;124m\"\u001b[39m, colors[\u001b[38;5;241m1\u001b[39m:\u001b[38;5;241m3\u001b[39m])\n\u001b[1;32m----> 5\u001b[0m colors[\u001b[38;5;241m0\u001b[39m] \u001b[38;5;241m=\u001b[39m \u001b[38;5;124m'\u001b[39m\u001b[38;5;124mpurple\u001b[39m\u001b[38;5;124m'\u001b[39m\n\u001b[0;32m      6\u001b[0m colors\n",
      "\u001b[1;31mTypeError\u001b[0m: 'tuple' object does not support item assignment"
     ]
    }
   ],
   "source": [
    "colors = ('red', 'green', 'yellow', 'blue')\n",
    "print(\"First element:\", colors[0])\n",
    "print(\"Last two elements:\", colors[2:])\n",
    "print(\"Middle two elements:\", colors[1:3])\n",
    "colors[0] = 'purple'\n",
    "colors # will generate an error as tuple is immutable."
   ]
  },
  {
   "cell_type": "markdown",
   "id": "49039c47-7cb2-4f16-9738-01513da7aa7f",
   "metadata": {},
   "source": [
    "### Mapping:"
   ]
  },
  {
   "cell_type": "code",
   "execution_count": 57,
   "id": "102b6a32-9aa7-4db2-8d11-90c5500f7bd9",
   "metadata": {},
   "outputs": [
    {
     "name": "stdout",
     "output_type": "stream",
     "text": [
      "Hello my name is John. I am 30 years old and I live at Pittsburgh\n",
      "All keys ['name', 'age', 'city']\n",
      "All values ['John', 30, 'Pittsburgh']\n"
     ]
    }
   ],
   "source": [
    "person = {'name': 'John', 'age': 30, 'city': 'Pittsburgh'}\n",
    "print(f\"Hello my name is {person['name']}. I am {person['age']} years old and I live at {person['city']}\")\n",
    "print(\"All keys\", list(person.keys()))\n",
    "print(\"All values\", list(person.values()))"
   ]
  },
  {
   "cell_type": "markdown",
   "id": "b3af95e4-fc40-4c2a-b2f1-bb977d87b62d",
   "metadata": {},
   "source": [
    "### Set:"
   ]
  },
  {
   "cell_type": "code",
   "execution_count": 60,
   "id": "035e4c43-99f5-4af4-994f-66b7e202b6ba",
   "metadata": {},
   "outputs": [
    {
     "name": "stdout",
     "output_type": "stream",
     "text": [
      "{1, 2, 3, 4, 5}\n"
     ]
    }
   ],
   "source": [
    "unique_numbers = {1,2,3,3,3,3,4,5}\n",
    "print(unique_numbers)"
   ]
  },
  {
   "cell_type": "markdown",
   "id": "90b3c299-b47a-4b96-a212-50e08f6a0172",
   "metadata": {},
   "source": [
    "### Boolean:"
   ]
  },
  {
   "cell_type": "code",
   "execution_count": 65,
   "id": "d77c054d-57c4-4920-a7e1-b018d81d317a",
   "metadata": {},
   "outputs": [
    {
     "name": "stdout",
     "output_type": "stream",
     "text": [
      "data type of the variable is_student =  <class 'bool'>\n",
      "data type of the variable has_license =  <class 'bool'>\n"
     ]
    }
   ],
   "source": [
    "is_student = True\n",
    "has_license = False\n",
    "print(\"data type of the variable is_student = \",type(is_student))\n",
    "print(\"data type of the variable has_license = \",type(has_license))"
   ]
  },
  {
   "cell_type": "markdown",
   "id": "bdf82635-a292-49f9-ae3c-7d23a1480fdb",
   "metadata": {},
   "source": [
    "### Special"
   ]
  },
  {
   "cell_type": "code",
   "execution_count": 70,
   "id": "757a67d5-0dbf-4af2-8dd2-d51379f5826a",
   "metadata": {},
   "outputs": [],
   "source": [
    "result = None"
   ]
  },
  {
   "cell_type": "markdown",
   "id": "e87fc824-3152-4289-b53c-9a8c5343db9b",
   "metadata": {},
   "source": [
    "### Logical Statements:"
   ]
  },
  {
   "cell_type": "code",
   "execution_count": 75,
   "id": "82953f21-15f6-4851-ac5e-7dd7836ee0b1",
   "metadata": {},
   "outputs": [
    {
     "name": "stdout",
     "output_type": "stream",
     "text": [
      "Positive\n"
     ]
    }
   ],
   "source": [
    "num = 10\n",
    "if num > 0:\n",
    "    print(\"Positive\")\n",
    "elif num == 0:\n",
    "    print(\"Zero\")\n",
    "else:\n",
    "    print(\"Non-positive\")"
   ]
  },
  {
   "cell_type": "code",
   "execution_count": 79,
   "id": "b91af5d9-189c-4110-bcc6-4ef0bfa1eae1",
   "metadata": {},
   "outputs": [
    {
     "name": "stdout",
     "output_type": "stream",
     "text": [
      "Both conditions are true\n",
      "At least one condition is true\n",
      "x is not equal to 0\n"
     ]
    }
   ],
   "source": [
    "x = 5\n",
    "y = 10\n",
    "if x > 0 and y < 20:\n",
    "    print(\"Both conditions are true\")\n",
    "if x > 0 or y > 20:\n",
    "    print(\"At least one condition is true\")\n",
    "if not x == 0:\n",
    "    print(\"x is not equal to 0\")"
   ]
  },
  {
   "cell_type": "code",
   "execution_count": 81,
   "id": "f62dbc96-b331-4fe0-af69-f1b6190a4740",
   "metadata": {},
   "outputs": [
    {
     "name": "stdout",
     "output_type": "stream",
     "text": [
      "Either a or b is False\n",
      "At least one of a or b is True\n",
      "a is True\n"
     ]
    }
   ],
   "source": [
    "# Define two boolean variables\n",
    "a = True\n",
    "b = False\n",
    "# Using the ’and’ operator\n",
    "if a and b:\n",
    "    print(\"Both a and b are True\")\n",
    "else:\n",
    "    print(\"Either a or b is False\") # This will be printed\n",
    "# Using the ’or’ operator\n",
    "if a or b:\n",
    "    print(\"At least one of a or b is True\") # This will be printed\n",
    "else:\n",
    "    print(\"Both a and b are False\")\n",
    "# Using the ’not’ operator\n",
    "if not a:\n",
    "    print(\"a is False\") # This will not be printed\n",
    "else:\n",
    "    print(\"a is True\") # This will be printed"
   ]
  },
  {
   "cell_type": "code",
   "execution_count": 2,
   "id": "159edacf-06a2-4c47-8698-8c595c365b75",
   "metadata": {},
   "outputs": [
    {
     "name": "stdout",
     "output_type": "stream",
     "text": [
      "apple\n",
      "banana\n",
      "cherry\n",
      "Count is: 0\n",
      "Count is: 1\n",
      "Count is: 2\n",
      "Count is: 3\n",
      "Count is: 4\n",
      "loop 1\n",
      "apple\n",
      "loop 2\n",
      "banana\n",
      "orange\n"
     ]
    }
   ],
   "source": [
    "# for loop:\n",
    "fruits = [\"apple\", \"banana\",\"cherry\"]\n",
    "for fruit in fruits:\n",
    "    print(fruit)\n",
    "# While loop:\n",
    "count = 0\n",
    "while count < 5:\n",
    "    print(\"Count is:\", count)\n",
    "    count += 1\n",
    "# Break\n",
    "fruits = [\"apple\", \"banana\", \"orange\"]\n",
    "print(\"loop 1\")\n",
    "for fruit in fruits:\n",
    "    print(fruit)\n",
    "    if fruit == \"apple\":\n",
    "        break\n",
    "# Continiue\n",
    "print(\"loop 2\")\n",
    "for fruit in fruits:\n",
    "    if fruit == \"apple\":\n",
    "        continue\n",
    "    else:\n",
    "        print(fruit)"
   ]
  },
  {
   "cell_type": "code",
   "execution_count": 8,
   "id": "0c1bc0ef-4a2c-4081-9857-14df7f980390",
   "metadata": {},
   "outputs": [],
   "source": [
    "def add_binary(a, b):\n",
    "    '''\n",
    "    Returns the sum of two decimal numbers in binary digits.\n",
    "    Parameters:\n",
    "    a (int): A decimal integer\n",
    "    b (int): Another decimal integer\n",
    "    Returns:\n",
    "    binary_sum (str): Binary string of the sum of a and b\n",
    "    '''\n",
    "    binary_sum = bin(a+b)[2:]\n",
    "    return binary_sum\n"
   ]
  },
  {
   "cell_type": "markdown",
   "id": "639fd4b2-f423-4e83-8adc-90401c938cf8",
   "metadata": {},
   "source": [
    "### Built - in - Functions:"
   ]
  },
  {
   "cell_type": "code",
   "execution_count": 10,
   "id": "d9514ad1-6350-4939-b098-9635999fc579",
   "metadata": {},
   "outputs": [
    {
     "name": "stdout",
     "output_type": "stream",
     "text": [
      "Hello, World!\n"
     ]
    }
   ],
   "source": [
    "print(\"Hello, World!\") # Output: Hello, World!\n",
    "length = len(\"Hello\") # Output: 5\n",
    "data_type = type(42) # Output: <class ’int’>\n",
    "total = sum([1, 2, 3]) # Output: 6"
   ]
  },
  {
   "cell_type": "markdown",
   "id": "193fdd88-ecae-4e02-86d6-cb66f66be4d7",
   "metadata": {},
   "source": [
    "### Built - in - Methods:"
   ]
  },
  {
   "cell_type": "code",
   "execution_count": 12,
   "id": "27cefebe-9bb1-49aa-939c-4849e9719baf",
   "metadata": {},
   "outputs": [],
   "source": [
    "# str.upper(): Converts all characters in a string to uppercase.\n",
    "message = \"hello\".upper() # Output: \"HELLO\"\n",
    "# list.append(): Adds an element to the end of a list.\n",
    "fruits = [\"apple\", \"banana\"]\n",
    "fruits.append(\"cherry\") # Output: [\"apple\", \"banana\", \"cherry\"]\n",
    "# dict.get(): Returns the value associated with a key in a dictionary.\n",
    "info = {\"name\": \"Alice\", \"age\": 25}\n",
    "age = info.get(\"age\") # Output: 25"
   ]
  },
  {
   "cell_type": "markdown",
   "id": "c4e2e369-fbc9-40bf-933c-c384daff0d34",
   "metadata": {},
   "source": [
    "### User - Defined - Function:"
   ]
  },
  {
   "cell_type": "code",
   "execution_count": 16,
   "id": "39d16a5e-b7e0-4f5e-a786-5d8efdd93d6b",
   "metadata": {},
   "outputs": [
    {
     "name": "stdout",
     "output_type": "stream",
     "text": [
      "Choose conversion type:\n",
      "1. Celsius to Fahrenheit\n",
      "2. Fahrenheit to Celsius\n"
     ]
    },
    {
     "name": "stdin",
     "output_type": "stream",
     "text": [
      "Enter 1 or 2:  1\n",
      "Enter temperature in Celsius:  36\n"
     ]
    },
    {
     "name": "stdout",
     "output_type": "stream",
     "text": [
      "36.0C is equal to 96.8F\n"
     ]
    },
    {
     "data": {
      "text/plain": [
       "96.8"
      ]
     },
     "execution_count": 16,
     "metadata": {},
     "output_type": "execute_result"
    }
   ],
   "source": [
    "def temperature_converter():\n",
    "    \"\"\"\n",
    "    Converts temperature between Celsius and Fahrenheit.\n",
    "    This function prompts the user to specify the conversion type (Celsius to Fahrenheit or\n",
    "    Fahrenheit to Celsius)\n",
    "    and then asks for the temperature value. It calculates and returns the converted temperature.\n",
    "    Returns:\n",
    "    float: The converted temperature value.\n",
    "    \"\"\"\n",
    "    print(\"Choose conversion type:\")\n",
    "    print(\"1. Celsius to Fahrenheit\")\n",
    "    print(\"2. Fahrenheit to Celsius\")\n",
    "    # Get conversion choice from user\n",
    "    choice = input(\"Enter 1 or 2: \")\n",
    "    if choice == \"1\":\n",
    "        # Celsius to Fahrenheit conversion\n",
    "        celsius = float(input(\"Enter temperature in Celsius: \"))\n",
    "        fahrenheit = (celsius * 9/5) + 32\n",
    "        print(f\"{celsius}C is equal to {fahrenheit}F\")\n",
    "        return fahrenheit\n",
    "    elif choice == \"2\":\n",
    "        # Fahrenheit to Celsius conversion\n",
    "        fahrenheit = float(input(\"Enter temperature in Fahrenheit: \"))\n",
    "        celsius = (fahrenheit - 32) * 5/9\n",
    "        print(f\"{fahrenheit}F is equal to {celsius}C\")\n",
    "        return celsius\n",
    "    else:\n",
    "        print(\"Invalid choice. Please enter 1 or 2.\")\n",
    "        return None\n",
    "# Call the function\n",
    "temperature_converter()"
   ]
  },
  {
   "cell_type": "markdown",
   "id": "99bda334-22be-415f-8924-e68a5a7df438",
   "metadata": {},
   "source": [
    "### Global variables:"
   ]
  },
  {
   "cell_type": "code",
   "execution_count": 21,
   "id": "a30dc0b9-5ac0-4cdb-b3a2-07065d7da1b7",
   "metadata": {},
   "outputs": [
    {
     "name": "stdout",
     "output_type": "stream",
     "text": [
      "10\n"
     ]
    }
   ],
   "source": [
    "x = 10 # Global Variable.\n",
    "def print_global():\n",
    "    print(x) # Accessing global variable\n",
    "print_global() # Output: 10"
   ]
  },
  {
   "cell_type": "markdown",
   "id": "ca904327-ec64-433f-8b34-852678528e51",
   "metadata": {},
   "source": [
    "### Local Variables:"
   ]
  },
  {
   "cell_type": "code",
   "execution_count": 26,
   "id": "03f858d5-4fe4-498a-b0b0-7c24cd8837c8",
   "metadata": {},
   "outputs": [
    {
     "name": "stdout",
     "output_type": "stream",
     "text": [
      "5\n"
     ]
    },
    {
     "ename": "NameError",
     "evalue": "name 'y' is not defined",
     "output_type": "error",
     "traceback": [
      "\u001b[1;31m---------------------------------------------------------------------------\u001b[0m",
      "\u001b[1;31mNameError\u001b[0m                                 Traceback (most recent call last)",
      "Cell \u001b[1;32mIn[26], line 5\u001b[0m\n\u001b[0;32m      3\u001b[0m     \u001b[38;5;28mprint\u001b[39m(y)\n\u001b[0;32m      4\u001b[0m print_local() \u001b[38;5;66;03m# Output: 5\u001b[39;00m\n\u001b[1;32m----> 5\u001b[0m \u001b[38;5;28mprint\u001b[39m(y)\n",
      "\u001b[1;31mNameError\u001b[0m: name 'y' is not defined"
     ]
    }
   ],
   "source": [
    "def print_local():\n",
    "    y = 5 # Local variable\n",
    "    print(y)\n",
    "print_local() # Output: 5\n",
    "print(y) # This would cause an error because y is not accessible outside the function"
   ]
  },
  {
   "cell_type": "markdown",
   "id": "1a85bf2d-0257-47c9-ae51-aceddec22602",
   "metadata": {},
   "source": [
    "### Accessing and Modifying Global Variables Inside a Function"
   ]
  },
  {
   "cell_type": "code",
   "execution_count": 29,
   "id": "a5392ba1-5e89-42eb-b3fa-d8da266e672e",
   "metadata": {},
   "outputs": [
    {
     "name": "stdout",
     "output_type": "stream",
     "text": [
      "20\n"
     ]
    }
   ],
   "source": [
    "x = 10 # Global variable\n",
    "def modify_global():\n",
    "    global x # Declaring x as global\n",
    "    x = 20 # Modifying global x\n",
    "modify_global()\n",
    "print(x) # Output: 20"
   ]
  },
  {
   "cell_type": "code",
   "execution_count": 33,
   "id": "a3734c3d-6bce-40ed-83ad-39d137bd75fd",
   "metadata": {},
   "outputs": [
    {
     "name": "stdin",
     "output_type": "stream",
     "text": [
      "Enter a number:  12\n"
     ]
    },
    {
     "name": "stdout",
     "output_type": "stream",
     "text": [
      "Result: 0.8333333333333334\n"
     ]
    }
   ],
   "source": [
    "try:\n",
    "    num = int(input(\"Enter a number: \"))\n",
    "    print(\"Result:\", 10 / num)\n",
    "except ZeroDivisionError:\n",
    "    print(\"Cannot divide by zero.\")\n",
    "except ValueError:\n",
    "    print(\"Invalid input. Please enter a number.\")"
   ]
  },
  {
   "cell_type": "code",
   "execution_count": 35,
   "id": "e23866d0-c413-4953-a4a2-445567a871e0",
   "metadata": {},
   "outputs": [
    {
     "name": "stdout",
     "output_type": "stream",
     "text": [
      "File not found.\n"
     ]
    },
    {
     "ename": "NameError",
     "evalue": "name 'file' is not defined",
     "output_type": "error",
     "traceback": [
      "\u001b[1;31m---------------------------------------------------------------------------\u001b[0m",
      "\u001b[1;31mNameError\u001b[0m                                 Traceback (most recent call last)",
      "Cell \u001b[1;32mIn[35], line 7\u001b[0m\n\u001b[0;32m      5\u001b[0m     \u001b[38;5;28mprint\u001b[39m(\u001b[38;5;124m\"\u001b[39m\u001b[38;5;124mFile not found.\u001b[39m\u001b[38;5;124m\"\u001b[39m)\n\u001b[0;32m      6\u001b[0m \u001b[38;5;28;01mfinally\u001b[39;00m:\n\u001b[1;32m----> 7\u001b[0m     file\u001b[38;5;241m.\u001b[39mclose()\n",
      "\u001b[1;31mNameError\u001b[0m: name 'file' is not defined"
     ]
    }
   ],
   "source": [
    "try:\n",
    "    file = open(\"example.txt\", \"r\")\n",
    "    data = file.read()\n",
    "except FileNotFoundError:\n",
    "    print(\"File not found.\")\n",
    "finally:\n",
    "    file.close() # Ensures the file is closed"
   ]
  },
  {
   "cell_type": "code",
   "execution_count": 37,
   "id": "1c5a0586-1b57-4521-81c8-593cbfefa958",
   "metadata": {},
   "outputs": [
    {
     "name": "stdout",
     "output_type": "stream",
     "text": [
      "Age cannot be negative.\n"
     ]
    }
   ],
   "source": [
    "def check_age(age):\n",
    "    if age < 0:\n",
    "        raise ValueError(\"Age cannot be negative.\")\n",
    "    else:\n",
    "        print(\"Valid age\")\n",
    "try:\n",
    "    check_age(-1)\n",
    "except ValueError as e:\n",
    "    print(e)"
   ]
  },
  {
   "cell_type": "markdown",
   "id": "032e43f3-55dc-413b-aa4d-b12ad3341cb9",
   "metadata": {},
   "source": [
    "### 4.1 Exercise on Functions:\n",
    "### Task - 1:"
   ]
  },
  {
   "cell_type": "code",
   "execution_count": 42,
   "id": "fd229db1-eb75-4d31-a241-db3056e95024",
   "metadata": {},
   "outputs": [
    {
     "name": "stdout",
     "output_type": "stream",
     "text": [
      "Unit Converter: Length, Weight, Volume\n",
      "1. Length (meters <-> feet)\n",
      "2. Weight (kilograms <-> pounds)\n",
      "3. Volume (liters <-> gallons)\n"
     ]
    },
    {
     "name": "stdin",
     "output_type": "stream",
     "text": [
      "Select conversion type (1-3):  1\n",
      "Enter value to convert:  1\n",
      "Enter unit (m or ft):  ft\n"
     ]
    },
    {
     "name": "stdout",
     "output_type": "stream",
     "text": [
      "Converted Value: 0.30 m\n"
     ]
    }
   ],
   "source": [
    "def convert_length(value, from_unit):\n",
    "    \"\"\"\n",
    "    Converts length between meters and feet.\n",
    "    :param value: The numerical value to convert.\n",
    "    :param from_unit: The unit of the input value ('m' or 'ft').\n",
    "    :return: Converted value in the target unit.\n",
    "    \"\"\"\n",
    "    if from_unit == 'm':\n",
    "        return value * 3.28084  # Meters to feet\n",
    "    elif from_unit == 'ft':\n",
    "        return value / 3.28084  # Feet to meters\n",
    "    else:\n",
    "        raise ValueError(\"Invalid length unit\")\n",
    "\n",
    "def convert_weight(value, from_unit):\n",
    "    \"\"\"\n",
    "    Converts weight between kilograms and pounds.\n",
    "    :param value: The numerical value to convert.\n",
    "    :param from_unit: The unit of the input value ('kg' or 'lbs').\n",
    "    :return: Converted value in the target unit.\n",
    "    \"\"\"\n",
    "    if from_unit == 'kg':\n",
    "        return value * 2.20462  # Kilograms to pounds\n",
    "    elif from_unit == 'lbs':\n",
    "        return value / 2.20462  # Pounds to kilograms\n",
    "    else:\n",
    "        raise ValueError(\"Invalid weight unit\")\n",
    "\n",
    "def convert_volume(value, from_unit):\n",
    "    \"\"\"\n",
    "    Converts volume between liters and gallons.\n",
    "    :param value: The numerical value to convert.\n",
    "    :param from_unit: The unit of the input value ('L' or 'gal').\n",
    "    :return: Converted value in the target unit.\n",
    "    \"\"\"\n",
    "    if from_unit == 'L':\n",
    "        return value * 0.264172  # Liters to gallons\n",
    "    elif from_unit == 'gal':\n",
    "        return value / 0.264172  # Gallons to liters\n",
    "    else:\n",
    "        raise ValueError(\"Invalid volume unit\")\n",
    "\n",
    "def main():\n",
    "    print(\"Unit Converter: Length, Weight, Volume\")\n",
    "    print(\"1. Length (meters <-> feet)\")\n",
    "    print(\"2. Weight (kilograms <-> pounds)\")\n",
    "    print(\"3. Volume (liters <-> gallons)\")\n",
    "    \n",
    "    try:\n",
    "        choice = int(input(\"Select conversion type (1-3): \"))\n",
    "        if choice not in [1, 2, 3]:\n",
    "            raise ValueError(\"Invalid selection\")\n",
    "        \n",
    "        value = float(input(\"Enter value to convert: \"))\n",
    "        \n",
    "        if choice == 1:\n",
    "            unit = input(\"Enter unit (m or ft): \").strip().lower()\n",
    "            converted = convert_length(value, unit)\n",
    "            target_unit = 'ft' if unit == 'm' else 'm'\n",
    "        elif choice == 2:\n",
    "            unit = input(\"Enter unit (kg or lbs): \").strip().lower()\n",
    "            converted = convert_weight(value, unit)\n",
    "            target_unit = 'lbs' if unit == 'kg' else 'kg'\n",
    "        elif choice == 3:\n",
    "            unit = input(\"Enter unit (L or gal): \").strip().lower()\n",
    "            converted = convert_volume(value, unit)\n",
    "            target_unit = 'gal' if unit == 'l' else 'L'\n",
    "        \n",
    "        print(f\"Converted Value: {converted:.2f} {target_unit}\")\n",
    "    except ValueError as e:\n",
    "        print(f\"Error: {e}\")\n",
    "    except Exception:\n",
    "        print(\"An unexpected error occurred.\")\n",
    "\n",
    "if __name__ == \"__main__\":\n",
    "    main()"
   ]
  },
  {
   "cell_type": "code",
   "execution_count": 44,
   "id": "817ec9f9-db9a-4eb5-985e-ba79f5b2046e",
   "metadata": {},
   "outputs": [
    {
     "name": "stdout",
     "output_type": "stream",
     "text": [
      "Mathematical Operations on a List of Numbers\n",
      "1. Sum\n",
      "2. Average\n",
      "3. Maximum\n",
      "4. Minimum\n"
     ]
    },
    {
     "name": "stdin",
     "output_type": "stream",
     "text": [
      "Select an operation (1-4):  1\n",
      "Enter a list of numbers separated by spaces:  1 2 3\n"
     ]
    },
    {
     "name": "stdout",
     "output_type": "stream",
     "text": [
      "Result: 6.0\n"
     ]
    }
   ],
   "source": [
    "def calculate_sum(numbers):\n",
    "    \"\"\"\n",
    "    Calculates the sum of a list of numbers.\n",
    "    :param numbers: List of numerical values.\n",
    "    :return: Sum of the numbers.\n",
    "    \"\"\"\n",
    "    return sum(numbers)\n",
    "\n",
    "def calculate_average(numbers):\n",
    "    \"\"\"\n",
    "    Calculates the average of a list of numbers.\n",
    "    :param numbers: List of numerical values.\n",
    "    :return: Average of the numbers.\n",
    "    \"\"\"\n",
    "    return sum(numbers) / len(numbers) if numbers else 0\n",
    "\n",
    "def find_maximum(numbers):\n",
    "    \"\"\"\n",
    "    Finds the maximum number in a list.\n",
    "    :param numbers: List of numerical values.\n",
    "    :return: Maximum number in the list.\n",
    "    \"\"\"\n",
    "    return max(numbers)\n",
    "\n",
    "def find_minimum(numbers):\n",
    "    \"\"\"\n",
    "    Finds the minimum number in a list.\n",
    "    :param numbers: List of numerical values.\n",
    "    :return: Minimum number in the list.\n",
    "    \"\"\"\n",
    "    return min(numbers)\n",
    "\n",
    "def main():\n",
    "    print(\"Mathematical Operations on a List of Numbers\")\n",
    "    print(\"1. Sum\")\n",
    "    print(\"2. Average\")\n",
    "    print(\"3. Maximum\")\n",
    "    print(\"4. Minimum\")\n",
    "    \n",
    "    try:\n",
    "        choice = int(input(\"Select an operation (1-4): \"))\n",
    "        if choice not in [1, 2, 3, 4]:\n",
    "            raise ValueError(\"Invalid selection\")\n",
    "        \n",
    "        numbers_input = input(\"Enter a list of numbers separated by spaces: \").strip()\n",
    "        numbers = list(map(float, numbers_input.split()))\n",
    "        if not numbers:\n",
    "            raise ValueError(\"The list cannot be empty\")\n",
    "        \n",
    "        if choice == 1:\n",
    "            result = calculate_sum(numbers)\n",
    "        elif choice == 2:\n",
    "            result = calculate_average(numbers)\n",
    "        elif choice == 3:\n",
    "            result = find_maximum(numbers)\n",
    "        elif choice == 4:\n",
    "            result = find_minimum(numbers)\n",
    "        \n",
    "        print(f\"Result: {result}\")\n",
    "    except ValueError as e:\n",
    "        print(f\"Error: {e}\")\n",
    "    except Exception:\n",
    "        print(\"An unexpected error occurred.\")\n",
    "\n",
    "if __name__ == \"__main__\":\n",
    "    main()"
   ]
  },
  {
   "cell_type": "markdown",
   "id": "946d1d0d-3f49-4c4f-8aee-d689a0d96a72",
   "metadata": {},
   "source": [
    "Write a Python function that extracts every other element from a list, starting from the first element.\n",
    "• Requirements:\n",
    "– Define a function extract every other(lst) that takes a list lst as input and returns a\n",
    "new list containing every other element from the original list.\n",
    "– Example: For the input [1, 2, 3, 4, 5, 6], the output should be [1, 3, 5]."
   ]
  },
  {
   "cell_type": "code",
   "execution_count": 47,
   "id": "72271f15-29a7-49f7-ac57-e378727d8746",
   "metadata": {},
   "outputs": [
    {
     "name": "stdout",
     "output_type": "stream",
     "text": [
      "[1, 3, 5]\n"
     ]
    }
   ],
   "source": [
    "def extract_every_other(lst):\n",
    "    \"\"\"\n",
    "    Extracts every other element from a list, starting from the first element.\n",
    "    :param lst: The input list.\n",
    "    :return: A new list containing every other element.\n",
    "    \"\"\"\n",
    "    return lst[::2]\n",
    "\n",
    "# Example usage\n",
    "example_list = [1, 2, 3, 4, 5, 6]\n",
    "result = extract_every_other(example_list)\n",
    "print(result)  # Output: [1, 3, 5]\n"
   ]
  },
  {
   "cell_type": "markdown",
   "id": "c6ab787f-5d50-4f87-9dd3-8ee512d2bbc4",
   "metadata": {},
   "source": [
    "2. Slice a Sublist:\n",
    "Write a Python function that returns a sublist from a given list, starting from a specified index and\n",
    "ending at another specified index.\n",
    "• Requirements:\n",
    "– Define a function get sublist(lst, start, end) that takes a list lst, a starting index\n",
    "start, and an ending index end as input and returns the sublist from start to end (inclusive).\n",
    "– Example: For the input [1, 2, 3, 4, 5, 6] with start=2 and end=4, the output should\n",
    "be [3, 4, 5]."
   ]
  },
  {
   "cell_type": "code",
   "execution_count": 50,
   "id": "6a355188-761e-4c3f-a827-6198ecc953bd",
   "metadata": {},
   "outputs": [
    {
     "name": "stdout",
     "output_type": "stream",
     "text": [
      "[3, 4, 5]\n"
     ]
    }
   ],
   "source": [
    "def get_sublist(lst, start, end):\n",
    "    \"\"\"\n",
    "    Returns a sublist from the given list, starting from the specified index and ending at the specified index (inclusive).\n",
    "    :param lst: The input list.\n",
    "    :param start: The starting index.\n",
    "    :param end: The ending index (inclusive).\n",
    "    :return: A sublist from start to end.\n",
    "    \"\"\"\n",
    "    return lst[start:end+1]\n",
    "\n",
    "# Example usage\n",
    "example_list = [1, 2, 3, 4, 5, 6]\n",
    "start_index = 2\n",
    "end_index = 4\n",
    "result = get_sublist(example_list, start_index, end_index)\n",
    "print(result)  # Output: [3, 4, 5]\n"
   ]
  },
  {
   "cell_type": "markdown",
   "id": "4fbf9ab1-89f3-42a5-af39-c28ede3eaa7a",
   "metadata": {},
   "source": [
    "3. Reverse a List Using Slicing:\n",
    "Write a Python function that reverses a list using slicing.\n",
    "• Requirements:\n",
    "– Define a function reverse list(lst) that takes a list lst and returns a reversed list using\n",
    "slicing.\n",
    "– Example: For the input [1, 2, 3, 4, 5], the output should be [5, 4, 3, 2, 1]."
   ]
  },
  {
   "cell_type": "code",
   "execution_count": 53,
   "id": "cc213063-6f02-487e-85d9-851618d88d22",
   "metadata": {},
   "outputs": [
    {
     "name": "stdout",
     "output_type": "stream",
     "text": [
      "[5, 4, 3, 2, 1]\n"
     ]
    }
   ],
   "source": [
    "def reverse_list(lst):\n",
    "    \"\"\"\n",
    "    Reverses a list using slicing.\n",
    "    :param lst: The input list.\n",
    "    :return: A new list with elements in reverse order.\n",
    "    \"\"\"\n",
    "    return lst[::-1]\n",
    "\n",
    "# Example usage\n",
    "example_list = [1, 2, 3, 4, 5]\n",
    "result = reverse_list(example_list)\n",
    "print(result)  # Output: [5, 4, 3, 2, 1]"
   ]
  },
  {
   "cell_type": "markdown",
   "id": "be3e7f07-a479-48d6-9c17-055cabdd6e52",
   "metadata": {},
   "source": [
    "4. Remove the First and Last Elements:\n",
    "Write a Python function that removes the first and last elements of a list and returns the resulting\n",
    "sublist.\n",
    "• Requirements:\n",
    "– Define a function remove first last(lst) that takes a list lst and returns a sublist without\n",
    "the first and last elements using slicing.\n",
    "– Example: For the input [1, 2, 3, 4, 5], the output should be [2, 3, 4]."
   ]
  },
  {
   "cell_type": "code",
   "execution_count": 56,
   "id": "5f638ada-f2fd-41b6-ba18-b3069fe4c6a2",
   "metadata": {},
   "outputs": [
    {
     "name": "stdout",
     "output_type": "stream",
     "text": [
      "[2, 3, 4]\n"
     ]
    }
   ],
   "source": [
    "def remove_first_last(lst):\n",
    "    \"\"\"\n",
    "    Removes the first and last elements from a list and returns the resulting sublist.\n",
    "    :param lst: The input list.\n",
    "    :return: A new list without the first and last elements.\n",
    "    \"\"\"\n",
    "    return lst[1:-1] if len(lst) > 2 else []\n",
    "\n",
    "# Example usage\n",
    "example_list = [1, 2, 3, 4, 5]\n",
    "result = remove_first_last(example_list)\n",
    "print(result)  # Output: [2, 3, 4]\n"
   ]
  },
  {
   "cell_type": "markdown",
   "id": "cd813ddf-26d1-4b46-98a6-061e6c00edfe",
   "metadata": {},
   "source": [
    "5. Get the First n Elements:\n",
    "Write a Python function that extracts the first n elements from a list.\n",
    "• Requirements:\n",
    "– Define a function get first n(lst, n) that takes a list lst and an integer n as input and\n",
    "returns the first n elements of the list using slicing.\n",
    "– Example: For the input [1, 2, 3, 4, 5] with n=3, the output should be [1, 2, 3]."
   ]
  },
  {
   "cell_type": "code",
   "execution_count": 59,
   "id": "e89ac07c-0ef2-4173-97dc-670b02aa0f5d",
   "metadata": {},
   "outputs": [
    {
     "name": "stdout",
     "output_type": "stream",
     "text": [
      "[2, 3, 4]\n",
      "[1, 2, 3]\n"
     ]
    }
   ],
   "source": [
    "def remove_first_last(lst):\n",
    "    \"\"\"\n",
    "    Removes the first and last elements from a list and returns the resulting sublist.\n",
    "    :param lst: The input list.\n",
    "    :return: A new list without the first and last elements.\n",
    "    \"\"\"\n",
    "    return lst[1:-1] if len(lst) > 2 else []\n",
    "\n",
    "def get_first_n(lst, n):\n",
    "    \"\"\"\n",
    "    Extracts the first n elements from a list.\n",
    "    :param lst: The input list.\n",
    "    :param n: Number of elements to extract.\n",
    "    :return: A new list containing the first n elements.\n",
    "    \"\"\"\n",
    "    return lst[:n]\n",
    "\n",
    "# Example usage\n",
    "example_list = [1, 2, 3, 4, 5]\n",
    "result = remove_first_last(example_list)\n",
    "print(result)  # Output: [2, 3, 4]\n",
    "\n",
    "n = 3\n",
    "first_n_result = get_first_n(example_list, n)\n",
    "print(first_n_result)  # Output: [1, 2, 3]\n"
   ]
  },
  {
   "cell_type": "markdown",
   "id": "eb0963fa-31a5-46ed-8b33-d7731c4776b9",
   "metadata": {},
   "source": [
    "6. Extract Elements from the End:\n",
    "Write a Python function that extracts the last n elements of a list using slicing.\n",
    "• Requirements:\n",
    "– Define a function get last n(lst, n) that takes a list lst and an integer n as input and\n",
    "returns the last n elements of the list.\n",
    "– Example: For the input [1, 2, 3, 4, 5] with n=2, the output should be [4, 5]."
   ]
  },
  {
   "cell_type": "code",
   "execution_count": 62,
   "id": "1f9d8259-ec73-4cb2-8f19-248e23535441",
   "metadata": {},
   "outputs": [
    {
     "name": "stdout",
     "output_type": "stream",
     "text": [
      "[2, 3, 4]\n",
      "[1, 2, 3]\n",
      "[4, 5]\n"
     ]
    }
   ],
   "source": [
    "def remove_first_last(lst):\n",
    "    \"\"\"\n",
    "    Removes the first and last elements from a list and returns the resulting sublist.\n",
    "    :param lst: The input list.\n",
    "    :return: A new list without the first and last elements.\n",
    "    \"\"\"\n",
    "    return lst[1:-1] if len(lst) > 2 else []\n",
    "\n",
    "def get_first_n(lst, n):\n",
    "    \"\"\"\n",
    "    Extracts the first n elements from a list.\n",
    "    :param lst: The input list.\n",
    "    :param n: Number of elements to extract.\n",
    "    :return: A new list containing the first n elements.\n",
    "    \"\"\"\n",
    "    return lst[:n]\n",
    "\n",
    "def get_last_n(lst, n):\n",
    "    \"\"\"\n",
    "    Extracts the last n elements from a list.\n",
    "    :param lst: The input list.\n",
    "    :param n: Number of elements to extract.\n",
    "    :return: A new list containing the last n elements.\n",
    "    \"\"\"\n",
    "    return lst[-n:]\n",
    "\n",
    "# Example usage\n",
    "example_list = [1, 2, 3, 4, 5]\n",
    "result = remove_first_last(example_list)\n",
    "print(result)  # Output: [2, 3, 4]\n",
    "\n",
    "n = 3\n",
    "first_n_result = get_first_n(example_list, n)\n",
    "print(first_n_result)  # Output: [1, 2, 3]\n",
    "\n",
    "n = 2\n",
    "last_n_result = get_last_n(example_list, n)\n",
    "print(last_n_result)  # Output: [4, 5]"
   ]
  },
  {
   "cell_type": "markdown",
   "id": "f45a586b-d653-4b07-9842-039d82c8106a",
   "metadata": {},
   "source": [
    "7. Extract Elements in Reverse Order:\n",
    "Write a Python function that extracts a list of elements in reverse order starting from the second-to-last\n",
    "element and skipping one element in between.\n",
    "• Requirements:\n",
    "– Define a function reverse skip(lst) that takes a list lst and returns a new list containing\n",
    "every second element starting from the second-to-last, moving backward.\n",
    "– Example: For the input [1, 2, 3, 4, 5, 6], the output should be [5, 3, 1]."
   ]
  },
  {
   "cell_type": "code",
   "execution_count": 65,
   "id": "f02b9bca-fc43-4158-ac56-3b59ec2d7efe",
   "metadata": {},
   "outputs": [
    {
     "name": "stdout",
     "output_type": "stream",
     "text": [
      "[2, 3, 4, 5]\n",
      "[1, 2, 3]\n",
      "[5, 6]\n",
      "[5, 3, 1]\n"
     ]
    }
   ],
   "source": [
    "def remove_first_last(lst):\n",
    "    \"\"\"\n",
    "    Removes the first and last elements from a list and returns the resulting sublist.\n",
    "    :param lst: The input list.\n",
    "    :return: A new list without the first and last elements.\n",
    "    \"\"\"\n",
    "    return lst[1:-1] if len(lst) > 2 else []\n",
    "\n",
    "def get_first_n(lst, n):\n",
    "    \"\"\"\n",
    "    Extracts the first n elements from a list.\n",
    "    :param lst: The input list.\n",
    "    :param n: Number of elements to extract.\n",
    "    :return: A new list containing the first n elements.\n",
    "    \"\"\"\n",
    "    return lst[:n]\n",
    "\n",
    "def get_last_n(lst, n):\n",
    "    \"\"\"\n",
    "    Extracts the last n elements from a list.\n",
    "    :param lst: The input list.\n",
    "    :param n: Number of elements to extract.\n",
    "    :return: A new list containing the last n elements.\n",
    "    \"\"\"\n",
    "    return lst[-n:]\n",
    "\n",
    "def reverse_skip(lst):\n",
    "    \"\"\"\n",
    "    Extracts elements in reverse order, starting from the second-to-last element and skipping one element in between.\n",
    "    :param lst: The input list.\n",
    "    :return: A new list with every second element in reverse order.\n",
    "    \"\"\"\n",
    "    return lst[-2::-2]\n",
    "\n",
    "# Example usage\n",
    "example_list = [1, 2, 3, 4, 5, 6]\n",
    "result = remove_first_last(example_list)\n",
    "print(result)  # Output: [2, 3, 4]\n",
    "\n",
    "n = 3\n",
    "first_n_result = get_first_n(example_list, n)\n",
    "print(first_n_result)  # Output: [1, 2, 3]\n",
    "\n",
    "n = 2\n",
    "last_n_result = get_last_n(example_list, n)\n",
    "print(last_n_result)  # Output: [5, 6]\n",
    "\n",
    "reverse_skip_result = reverse_skip(example_list)\n",
    "print(reverse_skip_result)  # Output: [5, 3, 1]\n"
   ]
  },
  {
   "cell_type": "markdown",
   "id": "f292a2d7-ae0a-4915-8481-515e0472c0cd",
   "metadata": {},
   "source": [
    "1. Flatten a Nested List:\n",
    "Write a Python function that takes a nested list and flattens it into a single list, where all the elements\n",
    "are in a single dimension.\n",
    "• Requirements:\n",
    "– Define a function flatten(lst) that takes a nested list lst and returns a flattened version\n",
    "of the list.\n",
    "– Example: For the input [[1, 2], [3, 4], [5]], the output should be [1, 2, 3, 4, 5]."
   ]
  },
  {
   "cell_type": "code",
   "execution_count": 68,
   "id": "8e27c627-893f-4c4a-9a95-314032074474",
   "metadata": {},
   "outputs": [
    {
     "name": "stdout",
     "output_type": "stream",
     "text": [
      "[1, 2, 3, 4, 5]\n"
     ]
    }
   ],
   "source": [
    "def flatten(lst):\n",
    "    flattened_list = []\n",
    "    \n",
    "    for item in lst:\n",
    "        if isinstance(item, list):  # Check if the item is a list\n",
    "            flattened_list.extend(flatten(item))  # Recursively flatten the nested list\n",
    "        else:\n",
    "            flattened_list.append(item)  # Add non-list items directly to the flattened list\n",
    "            \n",
    "    return flattened_list\n",
    "\n",
    "# Example usage\n",
    "nested_list = [[1, 2], [3, 4], [5]]\n",
    "flattened = flatten(nested_list)\n",
    "print(flattened)\n"
   ]
  },
  {
   "cell_type": "markdown",
   "id": "ca4bccd5-532c-414e-a404-049699567448",
   "metadata": {},
   "source": [
    "2. Accessing Nested List Elements:\n",
    "Write a Python function that extracts a specific element from a nested list given its indices.\n",
    "• Requirements:\n",
    "– Define a function access nested element(lst, indices) that takes a nested list lst and\n",
    "a list of indices indices, and returns the element at that position.\n",
    "– Example: For the input lst = [[1, 2, 3], [4, 5, 6], [7, 8, 9]] with indices = [1,\n",
    "2], the output should be 6."
   ]
  },
  {
   "cell_type": "code",
   "execution_count": 71,
   "id": "17b39518-376c-4614-b85d-e96b8f09b579",
   "metadata": {},
   "outputs": [
    {
     "name": "stdout",
     "output_type": "stream",
     "text": [
      "6\n"
     ]
    }
   ],
   "source": [
    "def access_nested_element(lst, indices):\n",
    "    for index in indices:\n",
    "        lst = lst[index]  # Access the next level of the list using the current index\n",
    "    return lst  # The final element after all indices have been applied\n",
    "\n",
    "# Example usage\n",
    "lst = [[1, 2, 3], [4, 5, 6], [7, 8, 9]]\n",
    "indices = [1, 2]\n",
    "element = access_nested_element(lst, indices)\n",
    "print(element)\n"
   ]
  },
  {
   "cell_type": "markdown",
   "id": "c287e1a9-09a0-4796-a03f-e009583cedf1",
   "metadata": {},
   "source": [
    "3. Sum of All Elements in a Nested List:\n",
    "Write a Python function that calculates the sum of all the numbers in a nested list (regardless of depth).\n",
    "• Requirements:\n",
    "– Define a function sum nested(lst) that takes a nested list lst and returns the sum of all\n",
    "the elements.\n",
    "– Example: For the input [[1, 2], [3, [4, 5]], 6], the output should be 21."
   ]
  },
  {
   "cell_type": "code",
   "execution_count": 74,
   "id": "7a58f7b0-dd67-4abe-add8-23b500faf5d5",
   "metadata": {},
   "outputs": [
    {
     "name": "stdout",
     "output_type": "stream",
     "text": [
      "21\n"
     ]
    }
   ],
   "source": [
    "def sum_nested(lst):\n",
    "    total = 0\n",
    "    \n",
    "    for item in lst:\n",
    "        if isinstance(item, list):  # If the item is a nested list\n",
    "            total += sum_nested(item)  # Recursively call sum_nested to sum the elements in the nested list\n",
    "        else:\n",
    "            total += item  # Add the element if it's a number\n",
    "    \n",
    "    return total\n",
    "\n",
    "# Example usage\n",
    "nested_list = [[1, 2], [3, [4, 5]], 6]\n",
    "result = sum_nested(nested_list)\n",
    "print(result)\n"
   ]
  },
  {
   "cell_type": "markdown",
   "id": "93712400-19e2-4d8a-b94a-9ed6ebb17be4",
   "metadata": {},
   "source": [
    "4. Remove Specific Element from a Nested List:\n",
    "Write a Python function that removes all occurrences of a specific element from a nested list.\n",
    "• Requirements:\n",
    "– Define a function remove element(lst, elem) that removes elem from lst and returns the\n",
    "modified list.\n",
    "– Example: For the input lst = [[1, 2], [3, 2], [4, 5]] and elem = 2, the output should\n",
    "be [[1], [3], [4, 5]]."
   ]
  },
  {
   "cell_type": "code",
   "execution_count": 80,
   "id": "1a446c32-be4d-40bf-a1cd-47ebfe42618d",
   "metadata": {},
   "outputs": [
    {
     "name": "stdout",
     "output_type": "stream",
     "text": [
      "[[1, 2], [3, 2], [4, 5]]\n"
     ]
    }
   ],
   "source": [
    "def remove_element(lst, elem):\n",
    "    for i in range(len(lst)):\n",
    "        if isinstance(lst[i], list):  # If the item is a nested list\n",
    "            lst[i] = remove_element(lst[i], elem)  # Recursively remove elem from the nested list\n",
    "        else:\n",
    "            # If the element is found, remove all occurrences of elem in the list\n",
    "            while isinstance(lst[i], list) and elem in lst[i]:\n",
    "                lst[i].remove(elem)\n",
    "    \n",
    "    return [sublist for sublist in lst if sublist != []]  # Remove empty sublists\n",
    "\n",
    "# Example usage\n",
    "lst = [[1, 2], [3, 2], [4, 5]]\n",
    "elem = 2\n",
    "result = remove_element(lst, elem)\n",
    "print(result)\n"
   ]
  },
  {
   "cell_type": "markdown",
   "id": "e324f3de-f865-43f5-b47c-17c91c7488fd",
   "metadata": {},
   "source": [
    "5. Find the Maximum Element in a Nested List:\n",
    "Write a Python function that finds the maximum element in a nested list (regardless of depth).\n",
    "• Requirements:\n",
    "– Define a function find max(lst) that takes a nested list lst and returns the maximum\n",
    "element.\n",
    "– Example: For the input [[1, 2], [3, [4, 5]], 6], the output should be 6."
   ]
  },
  {
   "cell_type": "code",
   "execution_count": 83,
   "id": "46a4a55e-87c1-45c1-8c4e-a708c2771582",
   "metadata": {},
   "outputs": [
    {
     "name": "stdout",
     "output_type": "stream",
     "text": [
      "6\n"
     ]
    }
   ],
   "source": [
    "def find_max(lst):\n",
    "    max_element = float('-inf')  # Initialize with a very small value\n",
    "    \n",
    "    for item in lst:\n",
    "        if isinstance(item, list):  # If the item is a nested list\n",
    "            max_element = max(max_element, find_max(item))  # Recursively find the max in the nested list\n",
    "        else:\n",
    "            max_element = max(max_element, item)  # Compare and update the max value\n",
    "    \n",
    "    return max_element\n",
    "\n",
    "# Example usage\n",
    "nested_list = [[1, 2], [3, [4, 5]], 6]\n",
    "result = find_max(nested_list)\n",
    "print(result)\n"
   ]
  },
  {
   "cell_type": "markdown",
   "id": "46ec8f30-0bd5-42b5-a6eb-0ec05b258c95",
   "metadata": {},
   "source": [
    "6. Count Occurrences of an Element in a Nested List:\n",
    "Write a Python function that counts how many times a specific element appears in a nested list.\n",
    "• Requirements:\n",
    "– Define a function count occurrences(lst, elem) that counts the occurrences of elem in\n",
    "the nested list lst.\n",
    "– Example: For the input lst = [[1, 2], [2, 3], [2, 4]] and elem = 2, the output should\n",
    "be 3."
   ]
  },
  {
   "cell_type": "code",
   "execution_count": 86,
   "id": "f7a9ce5f-752d-469f-b6a3-c582bb2af9e5",
   "metadata": {},
   "outputs": [
    {
     "name": "stdout",
     "output_type": "stream",
     "text": [
      "3\n"
     ]
    }
   ],
   "source": [
    "def count_occurrences(lst, elem):\n",
    "    count = 0\n",
    "    \n",
    "    for item in lst:\n",
    "        if isinstance(item, list):  # If the item is a nested list\n",
    "            count += count_occurrences(item, elem)  # Recursively count occurrences in the nested list\n",
    "        else:\n",
    "            count += item == elem  # Count the occurrences of elem in the current level\n",
    "    \n",
    "    return count\n",
    "\n",
    "# Example usage\n",
    "lst = [[1, 2], [2, 3], [2, 4]]\n",
    "elem = 2\n",
    "result = count_occurrences(lst, elem)\n",
    "print(result)\n"
   ]
  },
  {
   "cell_type": "markdown",
   "id": "a7b1960b-7c6d-4790-bf87-3351d6c09295",
   "metadata": {},
   "source": [
    "7. Flatten a List of Lists of Lists:\n",
    "Write a Python function that flattens a list of lists of lists into a single list, regardless of the depth.\n",
    "• Requirements:\n",
    "– Define a function deep flatten(lst) that takes a deeply nested list lst and returns a single\n",
    "flattened list.\n",
    "– Example: For the input [[[1, 2], [3, 4]], [[5, 6], [7, 8]]], the output should be\n",
    "[1, 2, 3, 4, 5, 6, 7, 8]."
   ]
  },
  {
   "cell_type": "code",
   "execution_count": 91,
   "id": "233c8ee5-b6aa-489f-9191-799f7761d682",
   "metadata": {},
   "outputs": [
    {
     "name": "stdout",
     "output_type": "stream",
     "text": [
      "[1, 2, 3, 4, 5, 6, 7, 8]\n"
     ]
    }
   ],
   "source": [
    "def deep_flatten(lst):\n",
    "    flattened_list = []\n",
    "    \n",
    "    for item in lst:\n",
    "        if isinstance(item, list):  # If the item is a list, flatten it recursively\n",
    "            flattened_list.extend(deep_flatten(item))  # Recursively flatten and add the result\n",
    "        else:\n",
    "            flattened_list.append(item)  # Add non-list elements directly to the flattened list\n",
    "    \n",
    "    return flattened_list\n",
    "\n",
    "# Example usage\n",
    "nested_list = [[[1, 2], [3, 4]], [[5, 6], [7, 8]]]\n",
    "result = deep_flatten(nested_list)\n",
    "print(result)\n"
   ]
  },
  {
   "cell_type": "markdown",
   "id": "0cdf3d50-a460-4a24-9ba2-932f74aa76e7",
   "metadata": {},
   "source": [
    "8. Nested List Average:\n",
    "Write a Python function that calculates the average of all elements in a nested list.\n",
    "• Requirements:\n",
    "– Define a function average nested(lst) that takes a nested list lst and returns the average\n",
    "of all the elements.\n",
    "– Example: For the input [[1, 2], [3, 4], [5, 6]], the output should be 3.5."
   ]
  },
  {
   "cell_type": "code",
   "execution_count": 94,
   "id": "208171d2-b80b-4458-8e56-a75b7aba2850",
   "metadata": {},
   "outputs": [
    {
     "name": "stdout",
     "output_type": "stream",
     "text": [
      "3.5\n"
     ]
    }
   ],
   "source": [
    "def average_nested(lst):\n",
    "    total = 0\n",
    "    count = 0\n",
    "    \n",
    "    def flatten(lst):\n",
    "        nonlocal total, count\n",
    "        for item in lst:\n",
    "            if isinstance(item, list):  # If the item is a nested list\n",
    "                flatten(item)  # Recursively flatten the nested list\n",
    "            else:\n",
    "                total += item  # Add the number to the total\n",
    "                count += 1  # Increase the count of numbers\n",
    "    \n",
    "    flatten(lst)\n",
    "    return total / count if count != 0 else 0  # Return the average, avoid division by zero\n",
    "\n",
    "# Example usage\n",
    "nested_list = [[1, 2], [3, 4], [5, 6]]\n",
    "result = average_nested(nested_list)\n",
    "print(result)\n"
   ]
  },
  {
   "cell_type": "code",
   "execution_count": 98,
   "id": "595f32b9-3b43-443d-93eb-648f1e141e9f",
   "metadata": {},
   "outputs": [
    {
     "name": "stdout",
     "output_type": "stream",
     "text": [
      "Array:\n",
      "5\n",
      "Dimension: 0\n",
      "Data type: int32\n",
      "\n",
      "Array:\n",
      "[1 2 3]\n",
      "Dimension: 1\n",
      "Data type: int32\n",
      "\n",
      "Array:\n",
      "[[1 2]\n",
      " [3 4]]\n",
      "Dimension: 2\n",
      "Data type: int32\n",
      "\n"
     ]
    }
   ],
   "source": [
    "import numpy as np\n",
    "# Create and display zero, one, and n-dimensional arrays\n",
    "zero_dim_array = np.array(5)\n",
    "one_dim_array = np.array([1, 2, 3])\n",
    "n_dim_array = np.array([[1, 2], [3, 4]])\n",
    "for arr in [zero_dim_array, one_dim_array, n_dim_array]:\n",
    "    print(f\"Array:\\n{arr}\\nDimension: {arr.ndim}\\nData type: {arr.dtype}\\n\")"
   ]
  },
  {
   "cell_type": "code",
   "execution_count": 100,
   "id": "05af10ef-9d35-48e1-9c79-e5193baf089b",
   "metadata": {},
   "outputs": [
    {
     "name": "stdout",
     "output_type": "stream",
     "text": [
      "1\n",
      "2\n",
      "3\n"
     ]
    }
   ],
   "source": [
    "# For a 1-D array:\n",
    "import numpy as np\n",
    "arr_1d = np.array([1, 2, 3, 4, 5])\n",
    "print(arr_1d.ndim) # Output: 1\n",
    "# For a 2-D array:\n",
    "arr_2d = np.array([[1, 2, 3],\n",
    "[4, 5, 6]])\n",
    "print(arr_2d.ndim) # Output: 2\n",
    "#For a 3-D array:\n",
    "arr_3d = np.array([[[1, 2, 3],\n",
    "[4, 5, 6]],\n",
    "[[7, 8, 9],\n",
    "[10, 11, 12]]])\n",
    "print(arr_3d.ndim) # Output: 3"
   ]
  },
  {
   "cell_type": "code",
   "execution_count": 102,
   "id": "29b3daeb-b686-4c1c-ac0c-17382001e0e0",
   "metadata": {},
   "outputs": [
    {
     "name": "stdout",
     "output_type": "stream",
     "text": [
      "(5,)\n",
      "(2, 3)\n",
      "(2, 2, 3)\n"
     ]
    }
   ],
   "source": [
    "print(arr_1d.shape) # Output: (5,)\n",
    "print(arr_2d.shape) # Output: (2, 3)\n",
    "print(arr_3d.shape) # Output: (2, 2, 3)"
   ]
  },
  {
   "cell_type": "code",
   "execution_count": 104,
   "id": "45e8bc52-c609-4aad-a371-dac73fa40ff7",
   "metadata": {},
   "outputs": [
    {
     "name": "stdout",
     "output_type": "stream",
     "text": [
      "5\n",
      "6\n",
      "12\n"
     ]
    }
   ],
   "source": [
    "print(arr_1d.size) # Output: 5\n",
    "print(arr_2d.size) # Output: 6\n",
    "print(arr_3d.size) # Output: 12"
   ]
  },
  {
   "cell_type": "code",
   "execution_count": 106,
   "id": "1c151845-7b1e-4d4c-83fc-67513abb8d9a",
   "metadata": {},
   "outputs": [
    {
     "name": "stdout",
     "output_type": "stream",
     "text": [
      "int32\n",
      "float64\n"
     ]
    }
   ],
   "source": [
    "print(arr_1d.dtype) # Output: int64 (or int32)\n",
    "arr_float = np.array([1.1, 2.2, 3.3])\n",
    "print(arr_float.dtype) # Output: float64"
   ]
  },
  {
   "cell_type": "code",
   "execution_count": 108,
   "id": "3ae4cf8a-9908-4803-8283-ca5e63a79d1b",
   "metadata": {},
   "outputs": [
    {
     "name": "stdout",
     "output_type": "stream",
     "text": [
      "4\n"
     ]
    }
   ],
   "source": [
    "print(arr_1d.itemsize) # Output: 8 (for int64)"
   ]
  },
  {
   "cell_type": "code",
   "execution_count": 110,
   "id": "a94fb36c-2e46-4809-98f1-cb186d3321a5",
   "metadata": {},
   "outputs": [
    {
     "name": "stdout",
     "output_type": "stream",
     "text": [
      "20\n"
     ]
    }
   ],
   "source": [
    "print(arr_1d.nbytes) # Output: 40 (5 elements \\times 8 bytes each for int64)"
   ]
  },
  {
   "cell_type": "code",
   "execution_count": 112,
   "id": "b0512159-b361-4606-b189-c23502bbe097",
   "metadata": {},
   "outputs": [
    {
     "name": "stdout",
     "output_type": "stream",
     "text": [
      "[[1 4]\n",
      " [2 5]\n",
      " [3 6]]\n"
     ]
    }
   ],
   "source": [
    "print(arr_2d.T)\n",
    "# Output:\n",
    "# [[1 4]\n",
    "# [2 5]\n",
    "# [3 6]]"
   ]
  },
  {
   "cell_type": "code",
   "execution_count": 114,
   "id": "98a585d0-bfa3-4cf1-8f5b-b8b65e738e98",
   "metadata": {},
   "outputs": [
    {
     "name": "stdout",
     "output_type": "stream",
     "text": [
      "1 2 3 4 5 6 "
     ]
    }
   ],
   "source": [
    "for item in arr_2d.flat:\n",
    "    print(item, end=\" \") # Output: 1 2 3 4 5 6"
   ]
  },
  {
   "cell_type": "code",
   "execution_count": 116,
   "id": "f0790c26-b433-495f-88ab-ba22d98ec2e0",
   "metadata": {},
   "outputs": [
    {
     "name": "stdout",
     "output_type": "stream",
     "text": [
      "[1. 3.]\n",
      "[2. 4.]\n"
     ]
    }
   ],
   "source": [
    "arr_complex = np.array([1+2j, 3+4j])\n",
    "print(arr_complex.real) # Output: [1. 3.]\n",
    "print(arr_complex.imag) # Output: [2. 4.]"
   ]
  },
  {
   "cell_type": "code",
   "execution_count": 118,
   "id": "4b6aee51-0042-4c86-9b05-00a6d521e355",
   "metadata": {},
   "outputs": [
    {
     "name": "stdout",
     "output_type": "stream",
     "text": [
      "[[1. 2. 3.]\n",
      " [4. 5. 6.]]\n"
     ]
    }
   ],
   "source": [
    "arr_float = arr_2d.astype(float)\n",
    "print(arr_float)\n",
    "# Output:\n",
    "# [[1. 2. 3.]\n",
    "# [4. 5. 6.]]"
   ]
  },
  {
   "cell_type": "code",
   "execution_count": 120,
   "id": "1c468e9e-7a55-4ce8-8add-37be4e3907af",
   "metadata": {},
   "outputs": [
    {
     "ename": "AttributeError",
     "evalue": "'list' object has no attribute 'shape'",
     "output_type": "error",
     "traceback": [
      "\u001b[1;31m---------------------------------------------------------------------------\u001b[0m",
      "\u001b[1;31mAttributeError\u001b[0m                            Traceback (most recent call last)",
      "Cell \u001b[1;32mIn[120], line 2\u001b[0m\n\u001b[0;32m      1\u001b[0m lst \u001b[38;5;241m=\u001b[39m [[\u001b[38;5;241m1\u001b[39m, \u001b[38;5;241m2\u001b[39m], [\u001b[38;5;241m3\u001b[39m, \u001b[38;5;241m4\u001b[39m]]\n\u001b[1;32m----> 2\u001b[0m \u001b[38;5;28mprint\u001b[39m(lst\u001b[38;5;241m.\u001b[39mshape)\n\u001b[0;32m      3\u001b[0m \u001b[38;5;66;03m# Error: List has no .shape attribute\u001b[39;00m\n\u001b[0;32m      4\u001b[0m \u001b[38;5;66;03m#Fixing the Error:\u001b[39;00m\n\u001b[0;32m      5\u001b[0m arr \u001b[38;5;241m=\u001b[39m np\u001b[38;5;241m.\u001b[39marray(lst)\n",
      "\u001b[1;31mAttributeError\u001b[0m: 'list' object has no attribute 'shape'"
     ]
    }
   ],
   "source": [
    "lst = [[1, 2], [3, 4]]\n",
    "print(lst.shape)\n",
    "# Error: List has no .shape attribute\n",
    "#Fixing the Error:\n",
    "arr = np.array(lst)\n",
    "print(arr.shape) # Output: (2, 2)"
   ]
  },
  {
   "cell_type": "code",
   "execution_count": 122,
   "id": "af82b084-7d87-4cbb-96f9-ca87c9c67b8c",
   "metadata": {},
   "outputs": [
    {
     "ename": "IndexError",
     "evalue": "tuple index out of range",
     "output_type": "error",
     "traceback": [
      "\u001b[1;31m---------------------------------------------------------------------------\u001b[0m",
      "\u001b[1;31mIndexError\u001b[0m                                Traceback (most recent call last)",
      "Cell \u001b[1;32mIn[122], line 2\u001b[0m\n\u001b[0;32m      1\u001b[0m arr \u001b[38;5;241m=\u001b[39m np\u001b[38;5;241m.\u001b[39marray([\u001b[38;5;241m1\u001b[39m, \u001b[38;5;241m2\u001b[39m, \u001b[38;5;241m3\u001b[39m])\n\u001b[1;32m----> 2\u001b[0m \u001b[38;5;28mprint\u001b[39m(arr\u001b[38;5;241m.\u001b[39mshape[\u001b[38;5;241m1\u001b[39m]) \u001b[38;5;66;03m# Error: 1D array only has one dimension\u001b[39;00m\n\u001b[0;32m      3\u001b[0m \u001b[38;5;66;03m# Fixing the Error\u001b[39;00m\n\u001b[0;32m      4\u001b[0m \u001b[38;5;28;01mif\u001b[39;00m \u001b[38;5;28mlen\u001b[39m(arr\u001b[38;5;241m.\u001b[39mshape) \u001b[38;5;241m>\u001b[39m \u001b[38;5;241m1\u001b[39m:\n",
      "\u001b[1;31mIndexError\u001b[0m: tuple index out of range"
     ]
    }
   ],
   "source": [
    "arr = np.array([1, 2, 3])\n",
    "print(arr.shape[1]) # Error: 1D array only has one dimension\n",
    "# Fixing the Error\n",
    "if len(arr.shape) > 1:\n",
    "    print(arr.shape[1]) # Access only if it’s valid"
   ]
  },
  {
   "cell_type": "code",
   "execution_count": 124,
   "id": "9ebca72d-173c-4515-888d-d29aa2181a0f",
   "metadata": {},
   "outputs": [
    {
     "ename": "TypeError",
     "evalue": "'tuple' object is not callable",
     "output_type": "error",
     "traceback": [
      "\u001b[1;31m---------------------------------------------------------------------------\u001b[0m",
      "\u001b[1;31mTypeError\u001b[0m                                 Traceback (most recent call last)",
      "Cell \u001b[1;32mIn[124], line 2\u001b[0m\n\u001b[0;32m      1\u001b[0m arr \u001b[38;5;241m=\u001b[39m np\u001b[38;5;241m.\u001b[39marray([[\u001b[38;5;241m1\u001b[39m, \u001b[38;5;241m2\u001b[39m, \u001b[38;5;241m3\u001b[39m], [\u001b[38;5;241m4\u001b[39m, \u001b[38;5;241m5\u001b[39m, \u001b[38;5;241m6\u001b[39m]])\n\u001b[1;32m----> 2\u001b[0m \u001b[38;5;28mprint\u001b[39m(arr\u001b[38;5;241m.\u001b[39mshape()) \u001b[38;5;66;03m# Error: .shape is an attribute, not a function\u001b[39;00m\n\u001b[0;32m      3\u001b[0m \u001b[38;5;28mprint\u001b[39m(arr\u001b[38;5;241m.\u001b[39mshape)\n",
      "\u001b[1;31mTypeError\u001b[0m: 'tuple' object is not callable"
     ]
    }
   ],
   "source": [
    "arr = np.array([[1, 2, 3], [4, 5, 6]])\n",
    "print(arr.shape()) # Error: .shape is an attribute, not a function\n",
    "print(arr.shape) # Correct usage"
   ]
  },
  {
   "cell_type": "code",
   "execution_count": 126,
   "id": "30ec71a4-c7e2-439d-b5bf-d56bae8c53c4",
   "metadata": {},
   "outputs": [
    {
     "ename": "ValueError",
     "evalue": "operands could not be broadcast together with shapes (2,2) (3,) ",
     "output_type": "error",
     "traceback": [
      "\u001b[1;31m---------------------------------------------------------------------------\u001b[0m",
      "\u001b[1;31mValueError\u001b[0m                                Traceback (most recent call last)",
      "Cell \u001b[1;32mIn[126], line 3\u001b[0m\n\u001b[0;32m      1\u001b[0m a \u001b[38;5;241m=\u001b[39m np\u001b[38;5;241m.\u001b[39marray([[\u001b[38;5;241m1\u001b[39m, \u001b[38;5;241m2\u001b[39m], [\u001b[38;5;241m3\u001b[39m, \u001b[38;5;241m4\u001b[39m]])\n\u001b[0;32m      2\u001b[0m b \u001b[38;5;241m=\u001b[39m np\u001b[38;5;241m.\u001b[39marray([\u001b[38;5;241m1\u001b[39m, \u001b[38;5;241m2\u001b[39m, \u001b[38;5;241m3\u001b[39m])\n\u001b[1;32m----> 3\u001b[0m \u001b[38;5;28mprint\u001b[39m(a \u001b[38;5;241m+\u001b[39m b)\n",
      "\u001b[1;31mValueError\u001b[0m: operands could not be broadcast together with shapes (2,2) (3,) "
     ]
    }
   ],
   "source": [
    "a = np.array([[1, 2], [3, 4]])\n",
    "b = np.array([1, 2, 3])\n",
    "print(a + b) # Error: Shapes (2,2) and (3,) are not compatible"
   ]
  },
  {
   "cell_type": "code",
   "execution_count": 128,
   "id": "38091ef9-6cf7-4d7d-8383-a1320c5df68d",
   "metadata": {},
   "outputs": [
    {
     "ename": "MemoryError",
     "evalue": "Unable to allocate 74.5 GiB for an array with shape (100000, 100000) and data type float64",
     "output_type": "error",
     "traceback": [
      "\u001b[1;31m---------------------------------------------------------------------------\u001b[0m",
      "\u001b[1;31mMemoryError\u001b[0m                               Traceback (most recent call last)",
      "Cell \u001b[1;32mIn[128], line 1\u001b[0m\n\u001b[1;32m----> 1\u001b[0m large_array \u001b[38;5;241m=\u001b[39m np\u001b[38;5;241m.\u001b[39mones((\u001b[38;5;241m100000\u001b[39m, \u001b[38;5;241m100000\u001b[39m))\n",
      "File \u001b[1;32m~\\anaconda3\\Lib\\site-packages\\numpy\\core\\numeric.py:191\u001b[0m, in \u001b[0;36mones\u001b[1;34m(shape, dtype, order, like)\u001b[0m\n\u001b[0;32m    188\u001b[0m \u001b[38;5;28;01mif\u001b[39;00m like \u001b[38;5;129;01mis\u001b[39;00m \u001b[38;5;129;01mnot\u001b[39;00m \u001b[38;5;28;01mNone\u001b[39;00m:\n\u001b[0;32m    189\u001b[0m     \u001b[38;5;28;01mreturn\u001b[39;00m _ones_with_like(like, shape, dtype\u001b[38;5;241m=\u001b[39mdtype, order\u001b[38;5;241m=\u001b[39morder)\n\u001b[1;32m--> 191\u001b[0m a \u001b[38;5;241m=\u001b[39m empty(shape, dtype, order)\n\u001b[0;32m    192\u001b[0m multiarray\u001b[38;5;241m.\u001b[39mcopyto(a, \u001b[38;5;241m1\u001b[39m, casting\u001b[38;5;241m=\u001b[39m\u001b[38;5;124m'\u001b[39m\u001b[38;5;124munsafe\u001b[39m\u001b[38;5;124m'\u001b[39m)\n\u001b[0;32m    193\u001b[0m \u001b[38;5;28;01mreturn\u001b[39;00m a\n",
      "\u001b[1;31mMemoryError\u001b[0m: Unable to allocate 74.5 GiB for an array with shape (100000, 100000) and data type float64"
     ]
    }
   ],
   "source": [
    "large_array = np.ones((100000, 100000)) # May cause MemoryError"
   ]
  },
  {
   "cell_type": "code",
   "execution_count": 130,
   "id": "1d7a3a5a-d765-4879-b78c-853324cb6a25",
   "metadata": {},
   "outputs": [
    {
     "name": "stdout",
     "output_type": "stream",
     "text": [
      "Original Shape: (2, 3) \n",
      "Reshaped Shape: (3, 2)\n"
     ]
    }
   ],
   "source": [
    "import numpy as np\n",
    "# Create an array with shape (2, 3)\n",
    "array = np.array([[1, 2, 3],\n",
    "[4, 5, 6]])\n",
    "\n",
    "# Reshape to (3, 2), keeping 6 elements\n",
    "reshaped_array = array.reshape(3, 2)\n",
    "print(\"Original Shape:\", array.shape, \"\\nReshaped Shape:\", reshaped_array.shape)\n",
    "# Expected Outputs:\n",
    "# Original Shape: (2, 3)\n",
    "# Reshaped Shape: (3, 2)"
   ]
  },
  {
   "cell_type": "code",
   "execution_count": 132,
   "id": "0ac45412-5070-40ba-a423-50781a6086f4",
   "metadata": {},
   "outputs": [
    {
     "ename": "ValueError",
     "evalue": "cannot reshape array of size 6 into shape (4,2)",
     "output_type": "error",
     "traceback": [
      "\u001b[1;31m---------------------------------------------------------------------------\u001b[0m",
      "\u001b[1;31mValueError\u001b[0m                                Traceback (most recent call last)",
      "Cell \u001b[1;32mIn[132], line 2\u001b[0m\n\u001b[0;32m      1\u001b[0m array \u001b[38;5;241m=\u001b[39m np\u001b[38;5;241m.\u001b[39marray([[\u001b[38;5;241m1\u001b[39m, \u001b[38;5;241m2\u001b[39m, \u001b[38;5;241m3\u001b[39m], [\u001b[38;5;241m4\u001b[39m, \u001b[38;5;241m5\u001b[39m, \u001b[38;5;241m6\u001b[39m]])\n\u001b[1;32m----> 2\u001b[0m reshaped_array \u001b[38;5;241m=\u001b[39m array\u001b[38;5;241m.\u001b[39mreshape(\u001b[38;5;241m4\u001b[39m, \u001b[38;5;241m2\u001b[39m)\n",
      "\u001b[1;31mValueError\u001b[0m: cannot reshape array of size 6 into shape (4,2)"
     ]
    }
   ],
   "source": [
    "array = np.array([[1, 2, 3], [4, 5, 6]])\n",
    "reshaped_array = array.reshape(4, 2)\n",
    "# Error: cannot reshape array of size 6 into shape (4, 2)"
   ]
  },
  {
   "cell_type": "code",
   "execution_count": 134,
   "id": "c0a7ab8a-7770-4a44-b575-4c8272e4e219",
   "metadata": {},
   "outputs": [
    {
     "name": "stdout",
     "output_type": "stream",
     "text": [
      "[1 2 3 4 5 6 7 8 9]\n",
      "range(1, 10)\n",
      "[1, 2, 3, 4, 5, 6, 7, 8, 9]\n",
      "[ 0.  1.  2.  3.  4.  5.  6.  7.  8.  9. 10.]\n",
      "[ 0.5  1.3  2.1  2.9  3.7  4.5  5.3  6.1  6.9  7.7  8.5  9.3 10.1]\n"
     ]
    }
   ],
   "source": [
    "import numpy as np\n",
    "a = np.arange(1, 10)\n",
    "print(a)\n",
    "x = range(1, 10)\n",
    "print(x) # x is an iterator\n",
    "print(list(x))\n",
    "# further arange examples:\n",
    "x = np.arange(10.4)\n",
    "print(x)\n",
    "x = np.arange(0.5, 10.4, 0.8)\n",
    "print(x)"
   ]
  },
  {
   "cell_type": "code",
   "execution_count": 136,
   "id": "c150ae22-56e7-4542-90f5-7746916a387e",
   "metadata": {},
   "outputs": [
    {
     "name": "stdout",
     "output_type": "stream",
     "text": [
      "[ 1.          1.18367347  1.36734694  1.55102041  1.73469388  1.91836735\n",
      "  2.10204082  2.28571429  2.46938776  2.65306122  2.83673469  3.02040816\n",
      "  3.20408163  3.3877551   3.57142857  3.75510204  3.93877551  4.12244898\n",
      "  4.30612245  4.48979592  4.67346939  4.85714286  5.04081633  5.2244898\n",
      "  5.40816327  5.59183673  5.7755102   5.95918367  6.14285714  6.32653061\n",
      "  6.51020408  6.69387755  6.87755102  7.06122449  7.24489796  7.42857143\n",
      "  7.6122449   7.79591837  7.97959184  8.16326531  8.34693878  8.53061224\n",
      "  8.71428571  8.89795918  9.08163265  9.26530612  9.44897959  9.63265306\n",
      "  9.81632653 10.        ]\n",
      "[ 1.   2.5  4.   5.5  7.   8.5 10. ]\n",
      "[1.         2.28571429 3.57142857 4.85714286 6.14285714 7.42857143\n",
      " 8.71428571]\n"
     ]
    }
   ],
   "source": [
    "import numpy as np\n",
    "# 50 values between 1 and 10:\n",
    "print(np.linspace(1, 10))\n",
    "# 7 values between 1 and 10:\n",
    "print(np.linspace(1, 10, 7))\n",
    "# excluding the endpoint:\n",
    "print(np.linspace(1, 10, 7, endpoint=False))"
   ]
  },
  {
   "cell_type": "code",
   "execution_count": 138,
   "id": "24ed52b2-432d-4184-9928-11a489513aef",
   "metadata": {},
   "outputs": [
    {
     "ename": "SyntaxError",
     "evalue": "invalid character '’' (U+2019) (596432151.py, line 7)",
     "output_type": "error",
     "traceback": [
      "\u001b[1;36m  Cell \u001b[1;32mIn[138], line 7\u001b[1;36m\u001b[0m\n\u001b[1;33m    print(ones_array, zeros_array, empty_array, identity_matrix, sep=’\\n\\n’)\u001b[0m\n\u001b[1;37m                                                                     ^\u001b[0m\n\u001b[1;31mSyntaxError\u001b[0m\u001b[1;31m:\u001b[0m invalid character '’' (U+2019)\n"
     ]
    }
   ],
   "source": [
    "import numpy as np\n",
    "# Create arrays of specified shapes\n",
    "ones_array = np.ones((2, 3)) # Shape: (2, 3)\n",
    "zeros_array = np.zeros((3, 2)) # Shape: (3, 2)\n",
    "empty_array = np.empty((2, 2)) # Shape: (2, 2)\n",
    "identity_matrix = np.eye(3) # Shape: (3, 3)\n",
    "print(ones_array, zeros_array, empty_array, identity_matrix, sep=’\\n\\n’)"
   ]
  },
  {
   "cell_type": "code",
   "execution_count": 146,
   "id": "97420478-690e-4963-8596-fb3dcdea1b20",
   "metadata": {},
   "outputs": [
    {
     "name": "stdout",
     "output_type": "stream",
     "text": [
      "[1 2 3]\n",
      "[4 5 6]\n",
      "[[1 2 3]\n",
      " [4 5 6]]\n"
     ]
    }
   ],
   "source": [
    "import numpy as np\n",
    "array_from_list = np.array([1, 2, 3]) # [1 2 3]\n",
    "array_from_tuple = np.array((4, 5, 6)) # [4 5 6]\n",
    "array_from_nested_list = np.array([[1, 2, 3], [4, 5, 6]]) # [[1 2 3] [4 5 6]]\n",
    "print(array_from_list, array_from_tuple, array_from_nested_list, sep='\\n')"
   ]
  },
  {
   "cell_type": "code",
   "execution_count": 144,
   "id": "64a8444f-cbe4-4e57-8ef1-f8448ce79144",
   "metadata": {},
   "outputs": [
    {
     "name": "stdout",
     "output_type": "stream",
     "text": [
      "[[1 2 3]\n",
      " [4 5 6]]\n",
      "[[0. 0. 0.]\n",
      " [0. 0. 0.]]\n",
      "[[1. 1. 1.]\n",
      " [1. 1. 1.]]\n",
      "[[1. 2. 3.]\n",
      " [4. 5. 6.]]\n"
     ]
    }
   ],
   "source": [
    "import numpy as np\n",
    "# Existing Array of Shape:(2,3)\n",
    "arr = np.array([[1, 2, 3], [4, 5, 6]])\n",
    "# Creating Array with Shape of existing array:\n",
    "zeros, ones, empty = np.zeros(arr.shape), np.ones(arr.shape), np.empty(arr.shape) #\n",
    "Shape: (2,3)\n",
    "print(arr, zeros, ones, empty, sep='\\n')"
   ]
  },
  {
   "cell_type": "code",
   "execution_count": 150,
   "id": "7c06c86a-b61e-4858-a52b-314fb33698e0",
   "metadata": {},
   "outputs": [
    {
     "name": "stdout",
     "output_type": "stream",
     "text": [
      "[[1 2 5 6]\n",
      " [3 4 7 8]]\n",
      "[[1 2]\n",
      " [3 4]\n",
      " [5 6]\n",
      " [7 8]]\n",
      "[[1 5]\n",
      " [2 6]]\n"
     ]
    }
   ],
   "source": [
    "import numpy as np\n",
    "arr1 = np.array([[1, 2], [3, 4]]) # Shape: (2, 2)\n",
    "arr2 = np.array([[5, 6], [7, 8]]) # Shape: (2, 2)\n",
    "# Stacking examples\n",
    "hstacked = np.hstack((arr1, arr2))\n",
    "# Output hstack: [[1 2 5 6] [3 4 7 8]]\n",
    "vstacked = np.vstack((arr1, arr2))\n",
    "# Output vstack[[1 2] [3 4] [5 6] [7 8]]\n",
    "colstacked = np.column_stack((arr1[0], arr2[0]))\n",
    "# Output column stack: [[1 5] [2 6]]\n",
    "print(hstacked, vstacked, colstacked, sep='\\n')"
   ]
  },
  {
   "cell_type": "code",
   "execution_count": 154,
   "id": "f047bfc3-5173-40f9-8ecc-81ba44f74b8e",
   "metadata": {},
   "outputs": [
    {
     "name": "stdout",
     "output_type": "stream",
     "text": [
      "Concatenation along axis 0 (Vertical stacking):\n",
      " [[[1]\n",
      "  [2]]\n",
      "\n",
      " [[3]\n",
      "  [4]]\n",
      "\n",
      " [[5]\n",
      "  [6]]\n",
      "\n",
      " [[7]\n",
      "  [8]]]\n",
      "Shape of concatenated array along axis 0: (4, 2, 1)\n",
      "\n",
      "Concatenation along axis 1 (Horizontal stacking):\n",
      " [[[1]\n",
      "  [2]\n",
      "  [5]\n",
      "  [6]]\n",
      "\n",
      " [[3]\n",
      "  [4]\n",
      "  [7]\n",
      "  [8]]]\n",
      "Shape of concatenated array along axis 1: (2, 4, 1)\n",
      "\n",
      "Concatenation along axis 2 (Depth stacking):\n",
      " [[[1 5]\n",
      "  [2 6]]\n",
      "\n",
      " [[3 7]\n",
      "  [4 8]]]\n",
      "Shape of concatenated array along axis 2: (2, 2, 2)\n"
     ]
    }
   ],
   "source": [
    "import numpy as np\n",
    "# Creating two 3D arrays\n",
    "arr1 = np.array([[[1], [2]], [[3], [4]]]) # Shape: (2, 2, 1)\n",
    "arr2 = np.array([[[5], [6]], [[7], [8]]]) # Shape: (2, 2, 1)\n",
    "# Concatenate along axis 0 (vertical stacking)\n",
    "concat_axis0 = np.concatenate((arr1, arr2), axis=0)\n",
    "# Shape of concat_axis0: (4, 2, 1), arr1 is stacked on top of arr2\n",
    "# Concatenate along axis 1 (horizontal stacking)\n",
    "concat_axis1 = np.concatenate((arr1, arr2), axis=1)\n",
    "# Shape of concat_axis1: (2, 4, 1), arr1 and arr2 are placed side by side\n",
    "# Concatenate along axis 2 (depth stacking)\n",
    "concat_axis2 = np.concatenate((arr1, arr2), axis=2)\n",
    "# Shape of concat_axis2: (2, 2, 2), arr1 and arr2 are stacked in depth (thirddimension)\n",
    "# Displaying the results\n",
    "print(\"Concatenation along axis 0 (Vertical stacking):\\n\", concat_axis0)\n",
    "print(\"Shape of concatenated array along axis 0:\", concat_axis0.shape)\n",
    "print(\"\\nConcatenation along axis 1 (Horizontal stacking):\\n\", concat_axis1)\n",
    "print(\"Shape of concatenated array along axis 1:\", concat_axis1.shape)\n",
    "print(\"\\nConcatenation along axis 2 (Depth stacking):\\n\", concat_axis2)\n",
    "print(\"Shape of concatenated array along axis 2:\", concat_axis2.shape)"
   ]
  },
  {
   "cell_type": "code",
   "execution_count": 158,
   "id": "ba7cc5f1-2fa4-4e57-a358-86592f39f3a5",
   "metadata": {},
   "outputs": [
    {
     "name": "stdout",
     "output_type": "stream",
     "text": [
      "Error: all the input arrays must have same number of dimensions, but the array at index 0 has 2 dimension(s) and the array at index 1 has 1 dimension(s)\n",
      "[[1 2 5]\n",
      " [3 4 6]]\n"
     ]
    }
   ],
   "source": [
    "import numpy as np\n",
    "# Incorrect shapes\n",
    "arr1 = np.array([[1, 2], [3, 4]]) # shape (2, 2)\n",
    "arr2 = np.array([5, 6]) # shape (2,)\n",
    "# Attempting horizontal stack\n",
    "try:\n",
    "    hstacked = np.hstack((arr1, arr2)) # Error due to dimension mismatch\n",
    "except ValueError as e:\n",
    "    print(f\"Error: {e}\")\n",
    "# Solution: Reshape arr2 to match arr1’s dimensions\n",
    "arr2 = np.array([5, 6]).reshape(2, 1) # shape (2, 1)\n",
    "hstacked = np.hstack((arr1, arr2)) # No error\n",
    "print(hstacked)"
   ]
  },
  {
   "cell_type": "code",
   "execution_count": 160,
   "id": "be271755-1994-4218-beb3-699b87615b74",
   "metadata": {},
   "outputs": [
    {
     "ename": "ValueError",
     "evalue": "all the input arrays must have same number of dimensions, but the array at index 0 has 2 dimension(s) and the array at index 1 has 1 dimension(s)",
     "output_type": "error",
     "traceback": [
      "\u001b[1;31m---------------------------------------------------------------------------\u001b[0m",
      "\u001b[1;31mValueError\u001b[0m                                Traceback (most recent call last)",
      "Cell \u001b[1;32mIn[160], line 4\u001b[0m\n\u001b[0;32m      2\u001b[0m arr2 \u001b[38;5;241m=\u001b[39m np\u001b[38;5;241m.\u001b[39marray([\u001b[38;5;241m5\u001b[39m, \u001b[38;5;241m6\u001b[39m], dtype\u001b[38;5;241m=\u001b[39m\u001b[38;5;28mfloat\u001b[39m)\n\u001b[0;32m      3\u001b[0m \u001b[38;5;66;03m# Attempting horizontal stack (this will work, but can lead to unexpected results)\u001b[39;00m\n\u001b[1;32m----> 4\u001b[0m hstacked \u001b[38;5;241m=\u001b[39m np\u001b[38;5;241m.\u001b[39mhstack((arr1, arr2))\n\u001b[0;32m      5\u001b[0m \u001b[38;5;28mprint\u001b[39m(hstacked)\n\u001b[0;32m      6\u001b[0m \u001b[38;5;66;03m# Solution: Convert the data types to match each other explicitly, if needed:\u001b[39;00m\n",
      "File \u001b[1;32m~\\anaconda3\\Lib\\site-packages\\numpy\\core\\shape_base.py:359\u001b[0m, in \u001b[0;36mhstack\u001b[1;34m(tup, dtype, casting)\u001b[0m\n\u001b[0;32m    357\u001b[0m     \u001b[38;5;28;01mreturn\u001b[39;00m _nx\u001b[38;5;241m.\u001b[39mconcatenate(arrs, \u001b[38;5;241m0\u001b[39m, dtype\u001b[38;5;241m=\u001b[39mdtype, casting\u001b[38;5;241m=\u001b[39mcasting)\n\u001b[0;32m    358\u001b[0m \u001b[38;5;28;01melse\u001b[39;00m:\n\u001b[1;32m--> 359\u001b[0m     \u001b[38;5;28;01mreturn\u001b[39;00m _nx\u001b[38;5;241m.\u001b[39mconcatenate(arrs, \u001b[38;5;241m1\u001b[39m, dtype\u001b[38;5;241m=\u001b[39mdtype, casting\u001b[38;5;241m=\u001b[39mcasting)\n",
      "\u001b[1;31mValueError\u001b[0m: all the input arrays must have same number of dimensions, but the array at index 0 has 2 dimension(s) and the array at index 1 has 1 dimension(s)"
     ]
    }
   ],
   "source": [
    "arr1 = np.array([[1, 2], [3, 4]], dtype=int)\n",
    "arr2 = np.array([5, 6], dtype=float)\n",
    "# Attempting horizontal stack (this will work, but can lead to unexpected results)\n",
    "hstacked = np.hstack((arr1, arr2))\n",
    "print(hstacked)\n",
    "# Solution: Convert the data types to match each other explicitly, if needed:\n",
    "arr2 = np.array([5, 6], dtype=int) # Match the type of arr1\n",
    "hstacked = np.hstack((arr1, arr2)) # Works fine\n",
    "print(hstacked)"
   ]
  },
  {
   "cell_type": "code",
   "execution_count": 164,
   "id": "1e1b2d1d-86a7-40f1-8785-d068f10f69ca",
   "metadata": {},
   "outputs": [
    {
     "name": "stdout",
     "output_type": "stream",
     "text": [
      "Error: all the input arrays must have same number of dimensions, but the array at index 0 has 3 dimension(s) and the array at index 1 has 2 dimension(s)\n",
      "[[1 2]\n",
      " [3 4]\n",
      " [5 6]\n",
      " [7 8]]\n"
     ]
    }
   ],
   "source": [
    "arr1 = np.array([[[1, 2], [3, 4]]]) # shape (1, 2, 2)\n",
    "arr2 = np.array([[5, 6], [7, 8]]) # shape (2, 2)\n",
    "# Attempting stacking with 3D and 2D arrays\n",
    "try:\n",
    "    vstacked = np.vstack((arr1, arr2)) # Error due to too many dimensions\n",
    "except ValueError as e:\n",
    "    print(f\"Error: {e}\")\n",
    "# Solution: Reshape arr1 to be 2D (or flatten it) before stacking\n",
    "arr1 = arr1.reshape(2, 2) # Now it’s shape (2, 2)\n",
    "vstacked = np.vstack((arr1, arr2)) # Works fine\n",
    "print(vstacked)"
   ]
  },
  {
   "cell_type": "code",
   "execution_count": 166,
   "id": "d3519332-bd05-422a-8a47-7c8e1ddf46a0",
   "metadata": {},
   "outputs": [
    {
     "name": "stdout",
     "output_type": "stream",
     "text": [
      "2\n",
      "9\n",
      "[[2 3]\n",
      " [5 6]]\n"
     ]
    }
   ],
   "source": [
    "import numpy as np\n",
    "# Creating a 2D array\n",
    "array = np.array([[1, 2, 3], [4, 5, 6], [7, 8, 9]])\n",
    "# Accessing elements using indexing\n",
    "print(array[0, 1]) # Output: 2 (first row, second column)\n",
    "print(array[-1, -1]) # Output: 9 (last row, last column)\n",
    "# Slicing the array\n",
    "print(array[0:2, 1:3]) # Output: [[2, 3], [5, 6]]"
   ]
  },
  {
   "cell_type": "code",
   "execution_count": 168,
   "id": "4f2d99f4-15b7-4878-bf6d-96521c5a29d4",
   "metadata": {},
   "outputs": [
    {
     "name": "stdout",
     "output_type": "stream",
     "text": [
      "Error: index 2 is out of bounds for axis 0 with size 2\n"
     ]
    }
   ],
   "source": [
    "import numpy as np\n",
    "# Creating a 2D array\n",
    "array = np.array([[1, 2, 3], [4, 5, 6]])\n",
    "# Attempting to access an element out of bounds\n",
    "try:\n",
    "    print(array[2, 1])\n",
    "except IndexError as e:\n",
    "    print(f\"Error: {e}\")"
   ]
  },
  {
   "cell_type": "code",
   "execution_count": 170,
   "id": "517b50b9-d851-428e-ae34-3184b60110a5",
   "metadata": {},
   "outputs": [
    {
     "name": "stdout",
     "output_type": "stream",
     "text": [
      "Squared: [  1  16  81 256]\n",
      "Square root: [1. 2. 3. 4.]\n"
     ]
    }
   ],
   "source": [
    "import numpy as np\n",
    "# Example of basic ufuncs: square and square root\n",
    "arr = np.array([1, 4, 9, 16])\n",
    "# Square every element\n",
    "squared = np.square(arr)\n",
    "# Square root of every element\n",
    "sqrt = np.sqrt(arr)\n",
    "print(f\"Squared: {squared}\")\n",
    "print(f\"Square root: {sqrt}\")"
   ]
  },
  {
   "cell_type": "code",
   "execution_count": 172,
   "id": "717731d4-810b-4d9a-9667-67df4b5312f6",
   "metadata": {},
   "outputs": [],
   "source": [
    "import numpy as np\n",
    "# Trigonometric ufuncs\n",
    "angles = np.array([0, np.pi / 4, np.pi / 2])\n",
    "sine_values = np.sin(angles)\n",
    "# Logarithmic ufuncs\n",
    "log_values = np.log(arr)"
   ]
  },
  {
   "cell_type": "code",
   "execution_count": 174,
   "id": "bab5456a-ca6c-4cf8-b4f1-1e1929f893b7",
   "metadata": {},
   "outputs": [
    {
     "name": "stdout",
     "output_type": "stream",
     "text": [
      "Matrix Product:\n",
      "[[19 22]\n",
      " [43 50]]\n",
      "Determinant: -2.0000000000000004\n",
      "Inverse:\n",
      "[[-2.   1. ]\n",
      " [ 1.5 -0.5]]\n",
      "Eigenvalues: [-0.37228132  5.37228132], Eigenvectors:\n",
      "[[-0.82456484 -0.41597356]\n",
      " [ 0.56576746 -0.90937671]]\n"
     ]
    }
   ],
   "source": [
    "import numpy as np\n",
    "# Matrix multiplication\n",
    "A = np.array([[1, 2], [3, 4]])\n",
    "B = np.array([[5, 6], [7, 8]])\n",
    "product = np.dot(A, B)\n",
    "# Compute determinant\n",
    "det = np.linalg.det(A)\n",
    "# Compute inverse\n",
    "inverse = np.linalg.inv(A)\n",
    "# Compute eigenvalues and eigenvectors\n",
    "eigvals, eigvecs = np.linalg.eig(A)\n",
    "print(f\"Matrix Product:\\n{product}\")\n",
    "print(f\"Determinant: {det}\")\n",
    "print(f\"Inverse:\\n{inverse}\")\n",
    "print(f\"Eigenvalues: {eigvals}, Eigenvectors:\\n{eigvecs}\")"
   ]
  },
  {
   "cell_type": "code",
   "execution_count": 176,
   "id": "e8257a62-f204-4e63-98e6-ed77c4190230",
   "metadata": {},
   "outputs": [
    {
     "name": "stdout",
     "output_type": "stream",
     "text": [
      "[[11 21 31]\n",
      " [12 22 32]\n",
      " [13 23 33]]\n"
     ]
    }
   ],
   "source": [
    "import numpy as np\n",
    "A = np.array([[1], [2], [3]]) # Shape (3,1) 3 rows, 1 column\n",
    "B = np.array([10, 20, 30]) # Shape (3,) 1D array (3 elements)\n",
    "C = A + B # Works! Result shape: (3,3)\n",
    "print(C)"
   ]
  },
  {
   "cell_type": "code",
   "execution_count": 178,
   "id": "bbe4729d-baad-481f-9823-416cae94b81f",
   "metadata": {},
   "outputs": [
    {
     "name": "stdout",
     "output_type": "stream",
     "text": [
      "[[5 6 7]\n",
      " [6 7 8]\n",
      " [7 8 9]]\n"
     ]
    }
   ],
   "source": [
    "A = np.array([[1, 2, 3]]) # Shape (1,3)\n",
    "B = np.array([[4], [5], [6]]) # Shape (3,1)\n",
    "C = A + B #Works! Result shape: (3,3)\n",
    "print(C)"
   ]
  },
  {
   "cell_type": "code",
   "execution_count": 180,
   "id": "eaf1d444-49b8-4de7-9401-4b97285e2090",
   "metadata": {},
   "outputs": [
    {
     "ename": "ValueError",
     "evalue": "operands could not be broadcast together with shapes (3,2) (2,3) ",
     "output_type": "error",
     "traceback": [
      "\u001b[1;31m---------------------------------------------------------------------------\u001b[0m",
      "\u001b[1;31mValueError\u001b[0m                                Traceback (most recent call last)",
      "Cell \u001b[1;32mIn[180], line 3\u001b[0m\n\u001b[0;32m      1\u001b[0m A \u001b[38;5;241m=\u001b[39m np\u001b[38;5;241m.\u001b[39mones((\u001b[38;5;241m3\u001b[39m,\u001b[38;5;241m2\u001b[39m)) \u001b[38;5;66;03m# Shape (3,2)\u001b[39;00m\n\u001b[0;32m      2\u001b[0m B \u001b[38;5;241m=\u001b[39m np\u001b[38;5;241m.\u001b[39mones((\u001b[38;5;241m2\u001b[39m,\u001b[38;5;241m3\u001b[39m)) \u001b[38;5;66;03m# Shape (2,3)\u001b[39;00m\n\u001b[1;32m----> 3\u001b[0m C \u001b[38;5;241m=\u001b[39m A \u001b[38;5;241m+\u001b[39m B\n",
      "\u001b[1;31mValueError\u001b[0m: operands could not be broadcast together with shapes (3,2) (2,3) "
     ]
    }
   ],
   "source": [
    "A = np.ones((3,2)) # Shape (3,2)\n",
    "B = np.ones((2,3)) # Shape (2,3)\n",
    "C = A + B #ValueError: operands could not be broadcast together"
   ]
  },
  {
   "cell_type": "code",
   "execution_count": 182,
   "id": "ae31de31-92cc-44bf-bfda-419e2bc455fe",
   "metadata": {},
   "outputs": [
    {
     "name": "stdout",
     "output_type": "stream",
     "text": [
      "Loop Execution Time: 0.44811 seconds\n",
      "Vectorized Execution Time: 0.00206 seconds\n",
      "Vectorization is approximately 217.66 times faster!\n"
     ]
    }
   ],
   "source": [
    "import numpy as np\n",
    "import time\n",
    "# Create two large arrays\n",
    "size = 10**6\n",
    "a = np.random.rand(size)\n",
    "b = np.random.rand(size)\n",
    "# Using a loop\n",
    "start_time = time.time()\n",
    "result_loop = np.zeros(size)\n",
    "for i in range(size):\n",
    "    result_loop[i] = a[i] + b[i]\n",
    "end_time = time.time()\n",
    "loop_time = end_time - start_time\n",
    "print(f\"Loop Execution Time: {loop_time:.5f} seconds\")\n",
    "# Using NumPy’s vectorized operations\n",
    "start_time = time.time()\n",
    "result_vectorized = a + b # Element-wise addition\n",
    "end_time = time.time()\n",
    "vectorized_time = end_time - start_time\n",
    "print(f\"Vectorized Execution Time: {vectorized_time:.5f} seconds\")\n",
    "# Performance improvement factor\n",
    "speedup = loop_time / vectorized_time\n",
    "print(f\"Vectorization is approximately {speedup:.2f} times faster!\")"
   ]
  },
  {
   "cell_type": "markdown",
   "id": "88dfdce3-be34-4a06-a6de-43221520ce78",
   "metadata": {},
   "source": [
    "Problem - 1: Array Creation:\n",
    "Complete the following Tasks:\n",
    "1. Initialize an empty array with size 2X2.\n",
    "2. Initialize an all one array with size 4X2.\n",
    "3. Return a new array of given shape and type, filled with fill value.{Hint: np.full}\n",
    "4. Return a new array of zeros with same shape and type as a given array.{Hint: np.zeros like}\n",
    "5. Return a new array of ones with same shape and type as a given array.{Hint: np.ones like}\n",
    "6. For an existing list new_list = [1,2,3,4] convert to an numpy array.{Hint: np.array()}"
   ]
  },
  {
   "cell_type": "code",
   "execution_count": 185,
   "id": "8b016a80-e2bd-40d9-ad98-091d320b0b1e",
   "metadata": {},
   "outputs": [
    {
     "name": "stdout",
     "output_type": "stream",
     "text": [
      "Empty Array (2x2):\n",
      " [[0.82456484 0.41597356]\n",
      " [0.56576746 0.90937671]]\n",
      "\n",
      "All Ones Array (4x2):\n",
      " [[1. 1.]\n",
      " [1. 1.]\n",
      " [1. 1.]\n",
      " [1. 1.]]\n",
      "\n",
      "Array filled with 7 :\n",
      " [[7 7 7]\n",
      " [7 7 7]\n",
      " [7 7 7]]\n",
      "\n",
      "Array of Zeros with the same shape and type as existing_array:\n",
      " [[0 0]\n",
      " [0 0]]\n",
      "\n",
      "Array of Ones with the same shape and type as existing_array:\n",
      " [[1 1]\n",
      " [1 1]]\n",
      "\n",
      "Converted NumPy Array from new_list:\n",
      " [1 2 3 4]\n"
     ]
    }
   ],
   "source": [
    "import numpy as np\n",
    "\n",
    "# Task 1: Initialize an empty array with size 2x2\n",
    "empty_array = np.empty((2, 2))\n",
    "print(\"Empty Array (2x2):\\n\", empty_array)\n",
    "\n",
    "# Task 2: Initialize an all-ones array with size 4x2\n",
    "ones_array = np.ones((4, 2))\n",
    "print(\"\\nAll Ones Array (4x2):\\n\", ones_array)\n",
    "\n",
    "# Task 3: Return a new array of given shape and type, filled with a fill value\n",
    "shape = (3, 3)\n",
    "fill_value = 7\n",
    "filled_array = np.full(shape, fill_value)\n",
    "print(\"\\nArray filled with\", fill_value, \":\\n\", filled_array)\n",
    "\n",
    "# Task 4: Return a new array of zeros with same shape and type as a given array\n",
    "existing_array = np.array([[1, 2], [3, 4]])\n",
    "zeros_array = np.zeros_like(existing_array)\n",
    "print(\"\\nArray of Zeros with the same shape and type as existing_array:\\n\", zeros_array)\n",
    "\n",
    "# Task 5: Return a new array of ones with same shape and type as a given array\n",
    "ones_like_array = np.ones_like(existing_array)\n",
    "print(\"\\nArray of Ones with the same shape and type as existing_array:\\n\", ones_like_array)\n",
    "\n",
    "# Task 6: Convert an existing list to a numpy array\n",
    "new_list = [1, 2, 3, 4]\n",
    "numpy_array = np.array(new_list)\n",
    "print(\"\\nConverted NumPy Array from new_list:\\n\", numpy_array)\n"
   ]
  },
  {
   "cell_type": "markdown",
   "id": "bb111e99-4582-41fe-af7b-02132b6b686b",
   "metadata": {},
   "source": [
    "Problem - 2: Array Manipulation: Numerical Ranges and Array indexing:\n",
    "Complete the following tasks:\n",
    "1. Create an array with values ranging from 10 to 49. {Hint:np.arrange()}.\n",
    "2. Create a 3X3 matrix with values ranging from 0 to 8.\n",
    "{Hint:look for np.reshape()}\n",
    "3. Create a 3X3 identity matrix.{Hint:np.eye()}\n",
    "4. Create a random array of size 30 and find the mean of the array.\n",
    "{Hint:check for np.random.random() and array.mean() function}\n",
    "5. Create a 10X10 array with random values and find the minimum and maximum values.\n",
    "6. Create a zero array of size 10 and replace 5th element with 1.\n",
    "7. Reverse an array arr = [1,2,0,0,4,0].\n",
    "8. Create a 2d array with 1 on border and 0 inside.\n",
    "9. Create a 8X8 matrix and fill it with a checkerboard pattern."
   ]
  },
  {
   "cell_type": "code",
   "execution_count": 188,
   "id": "743fc610-940d-4474-931d-b19ec708a634",
   "metadata": {},
   "outputs": [
    {
     "name": "stdout",
     "output_type": "stream",
     "text": [
      "Array with values from 10 to 49:\n",
      " [10 11 12 13 14 15 16 17 18 19 20 21 22 23 24 25 26 27 28 29 30 31 32 33\n",
      " 34 35 36 37 38 39 40 41 42 43 44 45 46 47 48 49]\n",
      "\n",
      "3x3 Matrix with values from 0 to 8:\n",
      " [[0 1 2]\n",
      " [3 4 5]\n",
      " [6 7 8]]\n",
      "\n",
      "3x3 Identity Matrix:\n",
      " [[1. 0. 0.]\n",
      " [0. 1. 0.]\n",
      " [0. 0. 1.]]\n",
      "\n",
      "Random Array of size 30:\n",
      " [0.34378615 0.07679347 0.90743211 0.24289422 0.04186584 0.79814758\n",
      " 0.44306804 0.32556582 0.09417028 0.95164588 0.77914234 0.93652967\n",
      " 0.36167905 0.24580384 0.19954001 0.40303494 0.79837186 0.01165784\n",
      " 0.11258598 0.00368211 0.56097255 0.0368592  0.15551208 0.33485095\n",
      " 0.20288516 0.14465847 0.33821035 0.89403749 0.79725165 0.50560918]\n",
      "\n",
      "Mean of the random array: 0.40160813686455127\n",
      "\n",
      "10x10 Random Array:\n",
      " [[0.41724126 0.220462   0.70112967 0.8198909  0.67413637 0.15373\n",
      "  0.51113772 0.16518566 0.97159799 0.11969508]\n",
      " [0.30229181 0.07430711 0.70084555 0.92528396 0.63631865 0.77050254\n",
      "  0.49139885 0.61215304 0.01623476 0.42994764]\n",
      " [0.26486202 0.41150366 0.06991302 0.59171046 0.05020105 0.28686667\n",
      "  0.77398051 0.61988507 0.65464668 0.56020625]\n",
      " [0.22910238 0.89890723 0.49461717 0.72844205 0.83141339 0.48569315\n",
      "  0.72807524 0.71672743 0.67301713 0.31055028]\n",
      " [0.23481759 0.54036232 0.55072726 0.08352662 0.18739172 0.87233852\n",
      "  0.18219173 0.44575461 0.43728057 0.61133854]\n",
      " [0.06967417 0.02763699 0.47474898 0.02136301 0.10445747 0.98010492\n",
      "  0.13527338 0.09354164 0.18889497 0.31724365]\n",
      " [0.50251431 0.67906018 0.01478963 0.59785288 0.57599039 0.41978937\n",
      "  0.24657796 0.01945419 0.68411971 0.82953937]\n",
      " [0.49589374 0.63730745 0.3172514  0.6757718  0.50395621 0.23483454\n",
      "  0.89023738 0.05341489 0.95525747 0.16182796]\n",
      " [0.55128268 0.07583764 0.34046169 0.02140941 0.46350672 0.09201307\n",
      "  0.47276884 0.9424447  0.05884096 0.59109483]\n",
      " [0.62417116 0.30514531 0.44377053 0.47936797 0.50565357 0.36704475\n",
      "  0.66409542 0.4773945  0.45370415 0.30411322]]\n",
      "\n",
      "Minimum value: 0.014789628864841364\n",
      "Maximum value: 0.9801049161063917\n",
      "\n",
      "Zero array with 5th element replaced with 1:\n",
      " [0. 0. 0. 0. 1. 0. 0. 0. 0. 0.]\n",
      "\n",
      "Reversed array:\n",
      " [0 4 0 0 2 1]\n",
      "\n",
      "2D Array with 1 on the border and 0 inside:\n",
      " [[1. 1. 1. 1. 1.]\n",
      " [1. 0. 0. 0. 1.]\n",
      " [1. 0. 0. 0. 1.]\n",
      " [1. 0. 0. 0. 1.]\n",
      " [1. 1. 1. 1. 1.]]\n",
      "\n",
      "8x8 Checkerboard Pattern:\n",
      " [[0 1 0 1 0 1 0 1]\n",
      " [1 0 1 0 1 0 1 0]\n",
      " [0 1 0 1 0 1 0 1]\n",
      " [1 0 1 0 1 0 1 0]\n",
      " [0 1 0 1 0 1 0 1]\n",
      " [1 0 1 0 1 0 1 0]\n",
      " [0 1 0 1 0 1 0 1]\n",
      " [1 0 1 0 1 0 1 0]]\n"
     ]
    }
   ],
   "source": [
    "import numpy as np\n",
    "\n",
    "# Task 1: Create an array with values ranging from 10 to 49.\n",
    "arr_10_49 = np.arange(10, 50)\n",
    "print(\"Array with values from 10 to 49:\\n\", arr_10_49)\n",
    "\n",
    "# Task 2: Create a 3x3 matrix with values ranging from 0 to 8.\n",
    "matrix_3x3 = np.arange(9).reshape(3, 3)\n",
    "print(\"\\n3x3 Matrix with values from 0 to 8:\\n\", matrix_3x3)\n",
    "\n",
    "# Task 3: Create a 3x3 identity matrix.\n",
    "identity_matrix = np.eye(3)\n",
    "print(\"\\n3x3 Identity Matrix:\\n\", identity_matrix)\n",
    "\n",
    "# Task 4: Create a random array of size 30 and find the mean of the array.\n",
    "random_array = np.random.random(30)\n",
    "mean_value = random_array.mean()\n",
    "print(\"\\nRandom Array of size 30:\\n\", random_array)\n",
    "print(\"\\nMean of the random array:\", mean_value)\n",
    "\n",
    "# Task 5: Create a 10x10 array with random values and find the minimum and maximum values.\n",
    "random_10x10 = np.random.random((10, 10))\n",
    "min_value = random_10x10.min()\n",
    "max_value = random_10x10.max()\n",
    "print(\"\\n10x10 Random Array:\\n\", random_10x10)\n",
    "print(\"\\nMinimum value:\", min_value)\n",
    "print(\"Maximum value:\", max_value)\n",
    "\n",
    "# Task 6: Create a zero array of size 10 and replace the 5th element with 1.\n",
    "zero_array = np.zeros(10)\n",
    "zero_array[4] = 1  # 5th element is at index 4 (0-based indexing)\n",
    "print(\"\\nZero array with 5th element replaced with 1:\\n\", zero_array)\n",
    "\n",
    "# Task 7: Reverse an array arr = [1, 2, 0, 0, 4, 0].\n",
    "arr = np.array([1, 2, 0, 0, 4, 0])\n",
    "reversed_arr = arr[::-1]\n",
    "print(\"\\nReversed array:\\n\", reversed_arr)\n",
    "\n",
    "# Task 8: Create a 2d array with 1 on the border and 0 inside.\n",
    "border_array = np.ones((5, 5))\n",
    "border_array[1:-1, 1:-1] = 0\n",
    "print(\"\\n2D Array with 1 on the border and 0 inside:\\n\", border_array)\n",
    "\n",
    "# Task 9: Create an 8x8 matrix and fill it with a checkerboard pattern.\n",
    "checkerboard = np.zeros((8, 8), dtype=int)\n",
    "checkerboard[1::2, ::2] = 1  # Fill alternate positions\n",
    "checkerboard[::2, 1::2] = 1\n",
    "print(\"\\n8x8 Checkerboard Pattern:\\n\", checkerboard)\n"
   ]
  },
  {
   "cell_type": "markdown",
   "id": "d746afb3-0efc-4ef3-9306-0c604432f027",
   "metadata": {},
   "source": [
    "Problem - 3: Array Operations:\n",
    "For the following arrays:\n",
    "x = np.array([[1,2],[3,5]]) and y = np.array([[5,6],[7,8]]);\n",
    "v = np.array([9,10]) and w = np.array([11,12]);\n",
    "Complete all the task using numpy:\n",
    "1. Add the two array.\n",
    "2. Subtract the two array.\n",
    "3. Multiply the array with any integers of your choice.\n",
    "4. Find the square of each element of the array.\n",
    "5. Find the dot product between: v(and)w ; x(and)v ; x(and)y.\n",
    "6. Concatenate x(and)y along row and Concatenate v(and)w along column.\n",
    "{Hint:try np.concatenate() or np.vstack() functions.\n",
    "7. Concatenate x(and)v; if you get an error, observe and explain why did you get the error?"
   ]
  },
  {
   "cell_type": "code",
   "execution_count": 194,
   "id": "ab2210b6-927c-4f2e-aa87-f64c73ae407f",
   "metadata": {},
   "outputs": [
    {
     "name": "stdout",
     "output_type": "stream",
     "text": [
      "Addition of x and y:\n",
      " [[ 6  8]\n",
      " [10 13]]\n",
      "\n",
      "Subtraction of x and y:\n",
      " [[-4 -4]\n",
      " [-4 -3]]\n",
      "\n",
      "Multiplying x by 2:\n",
      " [[ 2  4]\n",
      " [ 6 10]]\n",
      "\n",
      "Square of each element in x:\n",
      " [[ 1  4]\n",
      " [ 9 25]]\n",
      "\n",
      "Dot product between v and w: 219\n",
      "\n",
      "Dot product between x and v:\n",
      " [29 77]\n",
      "\n",
      "Dot product between x and y:\n",
      " [[19 22]\n",
      " [50 58]]\n",
      "\n",
      "Concatenation of x and y along row:\n",
      " [[1 2]\n",
      " [3 5]\n",
      " [5 6]\n",
      " [7 8]]\n",
      "\n",
      "Concatenation of v and w along column:\n",
      " [[ 9 11]\n",
      " [10 12]]\n",
      "\n",
      "Error when concatenating x and v: all the input arrays must have same number of dimensions, but the array at index 0 has 2 dimension(s) and the array at index 1 has 1 dimension(s)\n"
     ]
    }
   ],
   "source": [
    "import numpy as np\n",
    "\n",
    "# Define arrays\n",
    "x = np.array([[1, 2], [3, 5]])\n",
    "y = np.array([[5, 6], [7, 8]])\n",
    "v = np.array([9, 10])\n",
    "w = np.array([11, 12])\n",
    "\n",
    "# Task 1: Add the two arrays\n",
    "add_result = x + y\n",
    "print(\"Addition of x and y:\\n\", add_result)\n",
    "\n",
    "# Task 2: Subtract the two arrays\n",
    "subtract_result = x - y\n",
    "print(\"\\nSubtraction of x and y:\\n\", subtract_result)\n",
    "\n",
    "# Task 3: Multiply the array with any integer of your choice\n",
    "mult_result = x * 2  # Multiply x by 2\n",
    "print(\"\\nMultiplying x by 2:\\n\", mult_result)\n",
    "\n",
    "# Task 4: Find the square of each element of the array\n",
    "square_result = np.square(x)\n",
    "print(\"\\nSquare of each element in x:\\n\", square_result)\n",
    "\n",
    "# Task 5: Find the dot product between:\n",
    "# - v and w\n",
    "dot_v_w = np.dot(v, w)\n",
    "print(\"\\nDot product between v and w:\", dot_v_w)\n",
    "\n",
    "# - x and v\n",
    "dot_x_v = np.dot(x, v)\n",
    "print(\"\\nDot product between x and v:\\n\", dot_x_v)\n",
    "\n",
    "# - x and y\n",
    "dot_x_y = np.dot(x, y)\n",
    "print(\"\\nDot product between x and y:\\n\", dot_x_y)\n",
    "\n",
    "# Task 6: Concatenate x and y along the row and concatenate v and w along the column\n",
    "concatenate_x_y = np.concatenate((x, y), axis=0)  # Concatenate x and y along row\n",
    "print(\"\\nConcatenation of x and y along row:\\n\", concatenate_x_y)\n",
    "\n",
    "concatenate_v_w = np.concatenate((v.reshape(-1, 1), w.reshape(-1, 1)), axis=1)  # Concatenate v and w along column\n",
    "print(\"\\nConcatenation of v and w along column:\\n\", concatenate_v_w)\n",
    "\n",
    "# Task 7: Concatenate x and v; if you get an error, observe and explain why you got the error.\n",
    "try:\n",
    "    concatenate_x_v = np.concatenate((x, v), axis=0)  # Trying to concatenate x and v along row\n",
    "    print(\"\\nConcatenation of x and v along row:\\n\", concatenate_x_v)\n",
    "except ValueError as e:\n",
    "    print(\"\\nError when concatenating x and v:\", e)\n"
   ]
  },
  {
   "cell_type": "markdown",
   "id": "2bd07a41-6dee-4b50-9a44-1953117b0c57",
   "metadata": {},
   "source": [
    "Problem - 4: Matrix Operations:\n",
    "• For the following arrays:\n",
    "A = np.array([[3,4],[7,8]]) and B = np.array([[5,3],[2,1]]);\n",
    "Prove following with Numpy:\n",
    "1. Prove A.A−1 = I.\n",
    "2. Prove AB ̸= BA.\n",
    "3. Prove (AB)\n",
    "\n",
    "T = BTAT\n",
    ".\n",
    "\n",
    "• Solve the following system of Linear equation using Inverse Methods.\n",
    "\n",
    "2x − 3y + z = −1\n",
    "x − y + 2z = −3\n",
    "3x + y − z = 9\n",
    "\n",
    "{Hint: First use Numpy array to represent the equation in Matrix form. Then Solve for: AX = B}\n",
    "\n",
    "• Now: solve the above equation using np.linalg.inv function.{Explore more about ”linalg” func-\n",
    "tion of Numpy}"
   ]
  },
  {
   "cell_type": "code",
   "execution_count": 197,
   "id": "fe0c7344-b58f-45fb-a5fc-a3df865289da",
   "metadata": {},
   "outputs": [
    {
     "name": "stdout",
     "output_type": "stream",
     "text": [
      "A * A^-1:\n",
      " [[1.0000000e+00 4.4408921e-16]\n",
      " [0.0000000e+00 1.0000000e+00]]\n",
      "Identity Matrix:\n",
      " [[1. 0.]\n",
      " [0. 1.]]\n",
      "\n",
      "AB:\n",
      " [[23 13]\n",
      " [51 29]]\n",
      "BA:\n",
      " [[36 44]\n",
      " [13 16]]\n",
      "\n",
      "Are AB and BA equal?  False\n",
      "\n",
      "(AB)^T:\n",
      " [[23 51]\n",
      " [13 29]]\n",
      "B^T * A^T:\n",
      " [[23 51]\n",
      " [13 29]]\n",
      "\n",
      "Is (AB)^T equal to B^T * A^T?  True\n",
      "\n",
      "Solution of linear equations using inverse method:\n",
      " [ 2.  1. -2.]\n",
      "\n",
      "Solution using np.linalg.solve function:\n",
      " [ 2.  1. -2.]\n"
     ]
    }
   ],
   "source": [
    "import numpy as np\n",
    "\n",
    "# Define matrices A and B\n",
    "A = np.array([[3, 4], [7, 8]])\n",
    "B = np.array([[5, 3], [2, 1]])\n",
    "\n",
    "# Task 1: Prove A.A^-1 = I (Identity Matrix)\n",
    "# Calculate the inverse of A\n",
    "A_inv = np.linalg.inv(A)\n",
    "\n",
    "# Multiply A with its inverse\n",
    "result = np.dot(A, A_inv)\n",
    "print(\"A * A^-1:\\n\", result)\n",
    "print(\"Identity Matrix:\\n\", np.eye(2))  # Identity Matrix\n",
    "\n",
    "# Task 2: Prove AB ≠ BA\n",
    "# Multiply A and B\n",
    "AB = np.dot(A, B)\n",
    "BA = np.dot(B, A)\n",
    "print(\"\\nAB:\\n\", AB)\n",
    "print(\"BA:\\n\", BA)\n",
    "print(\"\\nAre AB and BA equal? \", np.array_equal(AB, BA))\n",
    "\n",
    "# Task 3: Prove (AB)^T = B^T * A^T\n",
    "# Transpose of AB\n",
    "AB_T = np.transpose(AB)\n",
    "\n",
    "# Transpose of B and A\n",
    "B_T = np.transpose(B)\n",
    "A_T = np.transpose(A)\n",
    "\n",
    "# Check if (AB)^T = B^T * A^T\n",
    "print(\"\\n(AB)^T:\\n\", AB_T)\n",
    "print(\"B^T * A^T:\\n\", np.dot(B_T, A_T))\n",
    "print(\"\\nIs (AB)^T equal to B^T * A^T? \", np.array_equal(AB_T, np.dot(B_T, A_T)))\n",
    "\n",
    "# Task 4: Solve the system of linear equations using the inverse method\n",
    "# The system is represented as: AX = B, where\n",
    "# A = [[2, -3, 1],\n",
    "#      [1, -1, 2],\n",
    "#      [3, 1, -1]]\n",
    "# B = [-1, -3, 9]\n",
    "\n",
    "A_linear = np.array([[2, -3, 1], [1, -1, 2], [3, 1, -1]])\n",
    "B_linear = np.array([-1, -3, 9])\n",
    "\n",
    "# Solve for X using the inverse method: X = A^-1 * B\n",
    "A_inv_linear = np.linalg.inv(A_linear)\n",
    "X = np.dot(A_inv_linear, B_linear)\n",
    "print(\"\\nSolution of linear equations using inverse method:\\n\", X)\n",
    "\n",
    "# Task 5: Solve the system of linear equations using np.linalg.solve function\n",
    "X_solve = np.linalg.solve(A_linear, B_linear)\n",
    "print(\"\\nSolution using np.linalg.solve function:\\n\", X_solve)\n"
   ]
  },
  {
   "cell_type": "code",
   "execution_count": null,
   "id": "cf8cfcd2-bef8-435d-92e4-26c604a6b501",
   "metadata": {},
   "outputs": [
    {
     "name": "stdout",
     "output_type": "stream",
     "text": [
      "Element-wise Addition (Python List) took: 0.35173 seconds\n",
      "Element-wise Addition (NumPy Array) took: 0.00300 seconds\n",
      "Element-wise Multiplication (Python List) took: 0.21000 seconds\n",
      "Element-wise Multiplication (NumPy Array) took: 0.00300 seconds\n",
      "Dot Product (Python List) took: 0.28699 seconds\n",
      "Dot Product (NumPy Array) took: 0.00100 seconds\n"
     ]
    }
   ],
   "source": [
    "import numpy as np\n",
    "import time\n",
    "\n",
    "# 1. Element-wise Addition\n",
    "# Using Python Lists\n",
    "list_size = 1000000\n",
    "list1 = [i for i in range(list_size)]\n",
    "list2 = [i for i in range(list_size)]\n",
    "\n",
    "# Measure time for Python lists\n",
    "start_time = time.time()\n",
    "list_add = [list1[i] + list2[i] for i in range(list_size)]\n",
    "python_list_add_time = time.time() - start_time\n",
    "print(f\"Element-wise Addition (Python List) took: {python_list_add_time:.5f} seconds\")\n",
    "\n",
    "# Using NumPy Arrays\n",
    "np_list1 = np.arange(list_size)\n",
    "np_list2 = np.arange(list_size)\n",
    "\n",
    "# Measure time for NumPy arrays\n",
    "start_time = time.time()\n",
    "np_add = np_list1 + np_list2\n",
    "numpy_add_time = time.time() - start_time\n",
    "print(f\"Element-wise Addition (NumPy Array) took: {numpy_add_time:.5f} seconds\")\n",
    "\n",
    "\n",
    "# 2. Element-wise Multiplication\n",
    "# Using Python Lists\n",
    "start_time = time.time()\n",
    "list_multiply = [list1[i] * list2[i] for i in range(list_size)]\n",
    "python_list_multiply_time = time.time() - start_time\n",
    "print(f\"Element-wise Multiplication (Python List) took: {python_list_multiply_time:.5f} seconds\")\n",
    "\n",
    "# Using NumPy Arrays\n",
    "start_time = time.time()\n",
    "np_multiply = np_list1 * np_list2\n",
    "numpy_multiply_time = time.time() - start_time\n",
    "print(f\"Element-wise Multiplication (NumPy Array) took: {numpy_multiply_time:.5f} seconds\")\n",
    "\n",
    "\n",
    "# 3. Dot Product\n",
    "# Using Python Lists\n",
    "start_time = time.time()\n",
    "dot_product = sum(list1[i] * list2[i] for i in range(list_size))\n",
    "python_list_dot_product_time = time.time() - start_time\n",
    "print(f\"Dot Product (Python List) took: {python_list_dot_product_time:.5f} seconds\")\n",
    "\n",
    "# Using NumPy Arrays\n",
    "start_time = time.time()\n",
    "np_dot_product = np.dot(np_list1, np_list2)\n",
    "numpy_dot_product_time = time.time() - start_time\n",
    "print(f\"Dot Product (NumPy Array) took: {numpy_dot_product_time:.5f} seconds\")\n",
    "\n",
    "\n",
    "# 4. Matrix Multiplication\n",
    "# Create two random 1000x1000 matrices\n",
    "matrix_size = 1000\n",
    "matrix1 = [[i + j for j in range(matrix_size)] for i in range(matrix_size)]\n",
    "matrix2 = [[i - j for j in range(matrix_size)] for i in range(matrix_size)]\n",
    "\n",
    "# Using Python Lists - Matrix Multiplication\n",
    "start_time = time.time()\n",
    "python_matrix_multiply = [[sum(matrix1[i][k] * matrix2[k][j] for k in range(matrix_size)) for j in range(matrix_size)] for i in range(matrix_size)]\n",
    "python_list_matrix_multiply_time = time.time() - start_time\n",
    "print(f\"Matrix Multiplication (Python List) took: {python_list_matrix_multiply_time:.5f} seconds\")\n",
    "\n",
    "# Using NumPy Arrays - Matrix Multiplication\n",
    "np_matrix1 = np.random.rand(matrix_size, matrix_size)\n",
    "np_matrix2 = np.random.rand(matrix_size, matrix_size)\n",
    "\n",
    "start_time = time.time()\n",
    "np_matrix_multiply = np.dot(np_matrix1, np_matrix2)\n",
    "numpy_matrix_multiply_time = time.time() - start_time\n",
    "print(f\"Matrix Multiplication (NumPy Array) took: {numpy_matrix_multiply_time:.5f} seconds\")\n"
   ]
  }
 ],
 "metadata": {
  "kernelspec": {
   "display_name": "Python [conda env:base] *",
   "language": "python",
   "name": "conda-base-py"
  },
  "language_info": {
   "codemirror_mode": {
    "name": "ipython",
    "version": 3
   },
   "file_extension": ".py",
   "mimetype": "text/x-python",
   "name": "python",
   "nbconvert_exporter": "python",
   "pygments_lexer": "ipython3",
   "version": "3.12.7"
  }
 },
 "nbformat": 4,
 "nbformat_minor": 5
}
